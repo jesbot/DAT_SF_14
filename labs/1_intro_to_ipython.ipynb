{
 "cells": [
  {
   "cell_type": "markdown",
   "metadata": {},
   "source": [
    "# GA Lab: iPython Notebook / Python"
   ]
  },
  {
   "cell_type": "markdown",
   "metadata": {},
   "source": [
    "## iPython Notebook"
   ]
  },
  {
   "cell_type": "markdown",
   "metadata": {},
   "source": [
    "- Shift + Enter executes the current highlight cell\n",
    "- Shift + Tab help for current command"
   ]
  },
  {
   "cell_type": "code",
   "execution_count": 1,
   "metadata": {
    "collapsed": false
   },
   "outputs": [
    {
     "data": {
      "text/html": [
       "<iframe src=http://www.nature.com/news/ipython-interactive-demo-7.21492 width=1000 height=800></iframe>"
      ],
      "text/plain": [
       "<IPython.core.display.HTML object>"
      ]
     },
     "execution_count": 1,
     "metadata": {},
     "output_type": "execute_result"
    }
   ],
   "source": [
    "from IPython.core.display import HTML\n",
    "HTML(\"<iframe src=http://www.nature.com/news/ipython-interactive-demo-7.21492 width=1000 height=800></iframe>\")"
   ]
  },
  {
   "cell_type": "markdown",
   "metadata": {},
   "source": [
    "### import statements"
   ]
  },
  {
   "cell_type": "code",
   "execution_count": 2,
   "metadata": {
    "collapsed": false
   },
   "outputs": [],
   "source": [
    "import numpy as np\n",
    "import pandas as pd\n",
    "import matplotlib.pyplot as plt\n",
    "from scipy.optimize import curve_fit\n",
    "\n",
    "%matplotlib inline"
   ]
  },
  {
   "cell_type": "markdown",
   "metadata": {},
   "source": [
    "### execute shell commands"
   ]
  },
  {
   "cell_type": "code",
   "execution_count": 7,
   "metadata": {
    "collapsed": false
   },
   "outputs": [
    {
     "name": "stdout",
     "output_type": "stream",
     "text": [
      "total 96\r\n",
      "40 -rw-r--r--  1 jesbot  staff    17K Apr 30 19:47 1_intro_to_ipython.ipynb\r\n",
      "56 -rw-r--r--  1 jesbot  staff    24K Apr 30 19:12 2_simple_plot.ipynb\r\n"
     ]
    }
   ],
   "source": [
    "!ls -lsh"
   ]
  },
  {
   "cell_type": "markdown",
   "metadata": {},
   "source": [
    "### send shell commands to variable"
   ]
  },
  {
   "cell_type": "code",
   "execution_count": 8,
   "metadata": {
    "collapsed": false
   },
   "outputs": [
    {
     "data": {
      "text/plain": [
       "['CodeDevelopment',\n",
       " 'Coursera',\n",
       " 'Desktop',\n",
       " 'Documents',\n",
       " 'Downloads',\n",
       " 'Dropbox',\n",
       " 'General_Assembly',\n",
       " 'Health',\n",
       " 'Investing',\n",
       " 'Library',\n",
       " 'Manuscripts',\n",
       " 'MonthlyBills',\n",
       " 'Movies',\n",
       " 'Music',\n",
       " 'Numerics',\n",
       " 'Pictures',\n",
       " 'Public',\n",
       " 'StudentLoans',\n",
       " 'UDacity',\n",
       " 'Work',\n",
       " 'git']"
      ]
     },
     "execution_count": 8,
     "metadata": {},
     "output_type": "execute_result"
    }
   ],
   "source": [
    "home_drive = !ls ~\n",
    "home_drive"
   ]
  },
  {
   "cell_type": "markdown",
   "metadata": {},
   "source": [
    "#### Shell magic!"
   ]
  },
  {
   "cell_type": "code",
   "execution_count": 9,
   "metadata": {
    "collapsed": false
   },
   "outputs": [
    {
     "data": {
      "application/json": {
       "cell": {
        "!": "OSMagics",
        "HTML": "Other",
        "SVG": "Other",
        "bash": "Other",
        "capture": "ExecutionMagics",
        "debug": "ExecutionMagics",
        "file": "Other",
        "html": "DisplayMagics",
        "javascript": "DisplayMagics",
        "latex": "DisplayMagics",
        "perl": "Other",
        "prun": "ExecutionMagics",
        "pypy": "Other",
        "python": "Other",
        "python2": "Other",
        "python3": "Other",
        "ruby": "Other",
        "script": "ScriptMagics",
        "sh": "Other",
        "svg": "DisplayMagics",
        "sx": "OSMagics",
        "system": "OSMagics",
        "time": "ExecutionMagics",
        "timeit": "ExecutionMagics",
        "writefile": "OSMagics"
       },
       "line": {
        "alias": "OSMagics",
        "alias_magic": "BasicMagics",
        "autocall": "AutoMagics",
        "automagic": "AutoMagics",
        "autosave": "KernelMagics",
        "bookmark": "OSMagics",
        "cat": "Other",
        "cd": "OSMagics",
        "clear": "KernelMagics",
        "colors": "BasicMagics",
        "config": "ConfigMagics",
        "connect_info": "KernelMagics",
        "cp": "Other",
        "debug": "ExecutionMagics",
        "dhist": "OSMagics",
        "dirs": "OSMagics",
        "doctest_mode": "BasicMagics",
        "ed": "Other",
        "edit": "KernelMagics",
        "env": "OSMagics",
        "gui": "BasicMagics",
        "hist": "Other",
        "history": "HistoryMagics",
        "install_default_config": "DeprecatedMagics",
        "install_ext": "ExtensionMagics",
        "install_profiles": "DeprecatedMagics",
        "killbgscripts": "ScriptMagics",
        "ldir": "Other",
        "less": "KernelMagics",
        "lf": "Other",
        "lk": "Other",
        "ll": "Other",
        "load": "CodeMagics",
        "load_ext": "ExtensionMagics",
        "loadpy": "CodeMagics",
        "logoff": "LoggingMagics",
        "logon": "LoggingMagics",
        "logstart": "LoggingMagics",
        "logstate": "LoggingMagics",
        "logstop": "LoggingMagics",
        "ls": "Other",
        "lsmagic": "BasicMagics",
        "lx": "Other",
        "macro": "ExecutionMagics",
        "magic": "BasicMagics",
        "man": "KernelMagics",
        "matplotlib": "PylabMagics",
        "mkdir": "Other",
        "more": "KernelMagics",
        "mv": "Other",
        "notebook": "BasicMagics",
        "page": "BasicMagics",
        "pastebin": "CodeMagics",
        "pdb": "ExecutionMagics",
        "pdef": "NamespaceMagics",
        "pdoc": "NamespaceMagics",
        "pfile": "NamespaceMagics",
        "pinfo": "NamespaceMagics",
        "pinfo2": "NamespaceMagics",
        "popd": "OSMagics",
        "pprint": "BasicMagics",
        "precision": "BasicMagics",
        "profile": "BasicMagics",
        "prun": "ExecutionMagics",
        "psearch": "NamespaceMagics",
        "psource": "NamespaceMagics",
        "pushd": "OSMagics",
        "pwd": "OSMagics",
        "pycat": "OSMagics",
        "pylab": "PylabMagics",
        "qtconsole": "KernelMagics",
        "quickref": "BasicMagics",
        "recall": "HistoryMagics",
        "rehashx": "OSMagics",
        "reload_ext": "ExtensionMagics",
        "rep": "Other",
        "rerun": "HistoryMagics",
        "reset": "NamespaceMagics",
        "reset_selective": "NamespaceMagics",
        "rm": "Other",
        "rmdir": "Other",
        "run": "ExecutionMagics",
        "save": "CodeMagics",
        "sc": "OSMagics",
        "set_env": "OSMagics",
        "store": "StoreMagics",
        "sx": "OSMagics",
        "system": "OSMagics",
        "tb": "ExecutionMagics",
        "time": "ExecutionMagics",
        "timeit": "ExecutionMagics",
        "unalias": "OSMagics",
        "unload_ext": "ExtensionMagics",
        "who": "NamespaceMagics",
        "who_ls": "NamespaceMagics",
        "whos": "NamespaceMagics",
        "xdel": "NamespaceMagics",
        "xmode": "BasicMagics"
       }
      },
      "text/plain": [
       "Available line magics:\n",
       "%alias  %alias_magic  %autocall  %automagic  %autosave  %bookmark  %cat  %cd  %clear  %colors  %config  %connect_info  %cp  %debug  %dhist  %dirs  %doctest_mode  %ed  %edit  %env  %gui  %hist  %history  %install_default_config  %install_ext  %install_profiles  %killbgscripts  %ldir  %less  %lf  %lk  %ll  %load  %load_ext  %loadpy  %logoff  %logon  %logstart  %logstate  %logstop  %ls  %lsmagic  %lx  %macro  %magic  %man  %matplotlib  %mkdir  %more  %mv  %notebook  %page  %pastebin  %pdb  %pdef  %pdoc  %pfile  %pinfo  %pinfo2  %popd  %pprint  %precision  %profile  %prun  %psearch  %psource  %pushd  %pwd  %pycat  %pylab  %qtconsole  %quickref  %recall  %rehashx  %reload_ext  %rep  %rerun  %reset  %reset_selective  %rm  %rmdir  %run  %save  %sc  %set_env  %store  %sx  %system  %tb  %time  %timeit  %unalias  %unload_ext  %who  %who_ls  %whos  %xdel  %xmode\n",
       "\n",
       "Available cell magics:\n",
       "%%!  %%HTML  %%SVG  %%bash  %%capture  %%debug  %%file  %%html  %%javascript  %%latex  %%perl  %%prun  %%pypy  %%python  %%python2  %%python3  %%ruby  %%script  %%sh  %%svg  %%sx  %%system  %%time  %%timeit  %%writefile\n",
       "\n",
       "Automagic is ON, % prefix IS NOT needed for line magics."
      ]
     },
     "execution_count": 9,
     "metadata": {},
     "output_type": "execute_result"
    }
   ],
   "source": [
    "%lsmagic"
   ]
  },
  {
   "cell_type": "code",
   "execution_count": 11,
   "metadata": {
    "collapsed": false
   },
   "outputs": [
    {
     "name": "stdout",
     "output_type": "stream",
     "text": [
      "10000 loops, best of 3: 133 µs per loop\n"
     ]
    }
   ],
   "source": [
    "%timeit a = np.random.rand(100, 100)"
   ]
  },
  {
   "cell_type": "code",
   "execution_count": 14,
   "metadata": {
    "collapsed": false
   },
   "outputs": [
    {
     "name": "stdout",
     "output_type": "stream",
     "text": [
      "10\n",
      "Once deleted, variables cannot be recovered. Proceed (y/[n])? y\n"
     ]
    },
    {
     "ename": "NameError",
     "evalue": "name 'a' is not defined",
     "output_type": "error",
     "traceback": [
      "\u001b[0;31m---------------------------------------------------------------------------\u001b[0m",
      "\u001b[0;31mNameError\u001b[0m                                 Traceback (most recent call last)",
      "\u001b[0;32m<ipython-input-14-cf317c7c9d38>\u001b[0m in \u001b[0;36m<module>\u001b[0;34m()\u001b[0m\n\u001b[1;32m      2\u001b[0m \u001b[0;32mprint\u001b[0m \u001b[0ma\u001b[0m\u001b[0;34m\u001b[0m\u001b[0m\n\u001b[1;32m      3\u001b[0m \u001b[0mget_ipython\u001b[0m\u001b[0;34m(\u001b[0m\u001b[0;34m)\u001b[0m\u001b[0;34m.\u001b[0m\u001b[0mmagic\u001b[0m\u001b[0;34m(\u001b[0m\u001b[0;34mu'reset'\u001b[0m\u001b[0;34m)\u001b[0m\u001b[0;34m\u001b[0m\u001b[0m\n\u001b[0;32m----> 4\u001b[0;31m \u001b[0;32mprint\u001b[0m \u001b[0ma\u001b[0m\u001b[0;34m\u001b[0m\u001b[0m\n\u001b[0m",
      "\u001b[0;31mNameError\u001b[0m: name 'a' is not defined"
     ]
    }
   ],
   "source": [
    "a = 10\n",
    "print a\n",
    "%reset\n",
    "print a"
   ]
  },
  {
   "cell_type": "code",
   "execution_count": 13,
   "metadata": {
    "collapsed": false
   },
   "outputs": [
    {
     "name": "stdout",
     "output_type": "stream",
     "text": [
      "CPU times: user 360 µs, sys: 1.02 ms, total: 1.38 ms\n",
      "Wall time: 35.3 ms\n"
     ]
    }
   ],
   "source": [
    "%%time\n",
    "mu, sigma = 0, 0.1\n",
    "normal_dist = np.random.normal(mu, sigma, 1000)"
   ]
  },
  {
   "cell_type": "code",
   "execution_count": 41,
   "metadata": {
    "collapsed": false,
    "scrolled": true
   },
   "outputs": [
    {
     "data": {
      "text/plain": [
       "(array([   1.,    0.,    0.,    0.,    0.,    0.,    0.,    0.,    0.,\n",
       "           0.,    0.,    0.,    0.,    0.,    0.,    0.,    0.,    0.,\n",
       "           0.,    0.,    0.,    0.,    0.,    0.,    0.,    0.,    0.,\n",
       "           0.,    0.,    0.,    0.,    0.,    0.,    0.,    0.,    0.,\n",
       "           0.,    0.,    0.,    0.,    0.,    0.,    0.,    0.,    0.,\n",
       "           1.,    1.,    0.,    0.,    0.,    0.,    0.,    0.,    2.,\n",
       "           1.,    1.,    1.,    1.,    0.,    1.,    1.,    0.,    0.,\n",
       "           1.,    1.,    2.,    0.,    0.,    1.,    1.,    0.,    1.,\n",
       "           0.,    1.,    1.,    3.,    0.,    6.,    1.,    2.,    3.,\n",
       "           2.,    1.,    1.,    2.,    2.,    1.,    2.,    2.,    4.,\n",
       "           1.,    3.,    5.,    5.,    1.,    8.,    5.,   10.,    2.,\n",
       "           4.,    4.,    6.,    6.,   13.,    7.,    6.,    9.,    9.,\n",
       "           6.,   15.,   14.,   11.,   15.,   11.,   17.,   10.,    7.,\n",
       "          11.,   16.,   20.,   20.,   17.,   14.,   18.,   23.,   15.,\n",
       "          22.,   17.,   21.,   30.,   23.,   32.,   22.,   23.,   40.,\n",
       "          24.,   39.,   30.,   29.,   40.,   27.,   29.,   50.,   45.,\n",
       "          47.,   41.,   50.,   62.,   64.,   44.,   60.,   55.,   57.,\n",
       "          55.,   71.,   61.,   70.,   80.,   88.,   76.,   82.,   83.,\n",
       "          75.,   89.,  101.,   93.,  105.,  100.,  110.,  108.,  120.,\n",
       "         119.,  141.,  104.,  116.,  116.,  141.,  127.,  154.,  135.,\n",
       "         159.,  165.,  166.,  174.,  155.,  167.,  188.,  190.,  180.,\n",
       "         195.,  197.,  177.,  206.,  190.,  206.,  191.,  207.,  204.,\n",
       "         260.,  223.,  234.,  254.,  256.,  240.,  263.,  223.,  245.,\n",
       "         269.,  281.,  291.,  275.,  288.,  271.,  280.,  293.,  314.,\n",
       "         263.,  291.,  329.,  299.,  321.,  310.,  327.,  315.,  328.,\n",
       "         306.,  326.,  303.,  354.,  346.,  374.,  369.,  326.,  393.,\n",
       "         380.,  345.,  404.,  352.,  361.,  360.,  389.,  343.,  368.,\n",
       "         342.,  337.,  392.,  357.,  373.,  346.,  363.,  370.,  353.,\n",
       "         355.,  355.,  403.,  390.,  358.,  384.,  360.,  379.,  362.,\n",
       "         380.,  383.,  361.,  382.,  407.,  368.,  365.,  406.,  358.,\n",
       "         365.,  366.,  361.,  368.,  334.,  335.,  339.,  339.,  341.,\n",
       "         311.,  317.,  313.,  337.,  304.,  316.,  316.,  338.,  304.,\n",
       "         272.,  287.,  302.,  288.,  260.,  275.,  283.,  245.,  274.,\n",
       "         277.,  228.,  244.,  243.,  255.,  252.,  251.,  230.,  231.,\n",
       "         229.,  228.,  215.,  175.,  216.,  214.,  191.,  185.,  192.,\n",
       "         200.,  191.,  160.,  185.,  169.,  165.,  141.,  158.,  148.,\n",
       "         144.,  143.,  159.,  135.,  148.,  133.,  135.,  149.,  135.,\n",
       "         129.,  105.,  101.,  106.,  103.,   82.,   93.,  108.,   98.,\n",
       "          74.,   79.,   83.,   95.,   74.,   82.,   73.,   84.,   67.,\n",
       "          65.,   75.,   50.,   65.,   53.,   50.,   59.,   63.,   56.,\n",
       "          42.,   50.,   42.,   52.,   32.,   45.,   35.,   28.,   35.,\n",
       "          27.,   35.,   27.,   28.,   29.,   23.,   27.,   16.,   30.,\n",
       "          18.,   21.,   21.,   22.,   23.,   20.,   21.,   15.,   13.,\n",
       "          13.,   14.,   17.,    9.,   11.,   18.,   18.,    8.,    4.,\n",
       "          12.,   11.,   13.,    7.,   10.,    4.,    6.,    5.,   12.,\n",
       "           9.,    4.,    4.,    4.,    4.,    8.,    4.,    4.,    3.,\n",
       "           5.,    5.,    3.,    0.,    5.,    4.,    1.,    5.,    0.,\n",
       "           2.,    5.,    4.,    1.,    3.,    3.,    0.,    1.,    1.,\n",
       "           0.,    0.,    1.,    0.,    0.,    1.,    2.,    0.,    4.,\n",
       "           1.,    0.,    1.,    0.,    0.,    0.,    0.,    0.,    1.,\n",
       "           1.,    0.,    0.,    0.,    0.,    0.,    0.,    0.,    1.,\n",
       "           1.,    0.,    0.,    0.,    0.,    0.,    0.,    0.,    0.,\n",
       "           1.,    0.,    0.,    0.,    0.,    0.,    0.,    0.,    0.,\n",
       "           0.,    0.,    0.,    0.,    0.,    0.,    0.,    0.,    0.,\n",
       "           0.,    0.,    0.,    0.,    0.,    0.,    0.,    0.,    0.,\n",
       "           0.,    0.,    0.,    0.,    1.]),\n",
       " array([ -4.77568304e-01,  -4.75679470e-01,  -4.73790637e-01,\n",
       "         -4.71901804e-01,  -4.70012970e-01,  -4.68124137e-01,\n",
       "         -4.66235304e-01,  -4.64346470e-01,  -4.62457637e-01,\n",
       "         -4.60568803e-01,  -4.58679970e-01,  -4.56791137e-01,\n",
       "         -4.54902303e-01,  -4.53013470e-01,  -4.51124637e-01,\n",
       "         -4.49235803e-01,  -4.47346970e-01,  -4.45458137e-01,\n",
       "         -4.43569303e-01,  -4.41680470e-01,  -4.39791637e-01,\n",
       "         -4.37902803e-01,  -4.36013970e-01,  -4.34125136e-01,\n",
       "         -4.32236303e-01,  -4.30347470e-01,  -4.28458636e-01,\n",
       "         -4.26569803e-01,  -4.24680970e-01,  -4.22792136e-01,\n",
       "         -4.20903303e-01,  -4.19014470e-01,  -4.17125636e-01,\n",
       "         -4.15236803e-01,  -4.13347970e-01,  -4.11459136e-01,\n",
       "         -4.09570303e-01,  -4.07681470e-01,  -4.05792636e-01,\n",
       "         -4.03903803e-01,  -4.02014969e-01,  -4.00126136e-01,\n",
       "         -3.98237303e-01,  -3.96348469e-01,  -3.94459636e-01,\n",
       "         -3.92570803e-01,  -3.90681969e-01,  -3.88793136e-01,\n",
       "         -3.86904303e-01,  -3.85015469e-01,  -3.83126636e-01,\n",
       "         -3.81237803e-01,  -3.79348969e-01,  -3.77460136e-01,\n",
       "         -3.75571302e-01,  -3.73682469e-01,  -3.71793636e-01,\n",
       "         -3.69904802e-01,  -3.68015969e-01,  -3.66127136e-01,\n",
       "         -3.64238302e-01,  -3.62349469e-01,  -3.60460636e-01,\n",
       "         -3.58571802e-01,  -3.56682969e-01,  -3.54794136e-01,\n",
       "         -3.52905302e-01,  -3.51016469e-01,  -3.49127636e-01,\n",
       "         -3.47238802e-01,  -3.45349969e-01,  -3.43461135e-01,\n",
       "         -3.41572302e-01,  -3.39683469e-01,  -3.37794635e-01,\n",
       "         -3.35905802e-01,  -3.34016969e-01,  -3.32128135e-01,\n",
       "         -3.30239302e-01,  -3.28350469e-01,  -3.26461635e-01,\n",
       "         -3.24572802e-01,  -3.22683969e-01,  -3.20795135e-01,\n",
       "         -3.18906302e-01,  -3.17017469e-01,  -3.15128635e-01,\n",
       "         -3.13239802e-01,  -3.11350968e-01,  -3.09462135e-01,\n",
       "         -3.07573302e-01,  -3.05684468e-01,  -3.03795635e-01,\n",
       "         -3.01906802e-01,  -3.00017968e-01,  -2.98129135e-01,\n",
       "         -2.96240302e-01,  -2.94351468e-01,  -2.92462635e-01,\n",
       "         -2.90573802e-01,  -2.88684968e-01,  -2.86796135e-01,\n",
       "         -2.84907301e-01,  -2.83018468e-01,  -2.81129635e-01,\n",
       "         -2.79240801e-01,  -2.77351968e-01,  -2.75463135e-01,\n",
       "         -2.73574301e-01,  -2.71685468e-01,  -2.69796635e-01,\n",
       "         -2.67907801e-01,  -2.66018968e-01,  -2.64130135e-01,\n",
       "         -2.62241301e-01,  -2.60352468e-01,  -2.58463635e-01,\n",
       "         -2.56574801e-01,  -2.54685968e-01,  -2.52797134e-01,\n",
       "         -2.50908301e-01,  -2.49019468e-01,  -2.47130634e-01,\n",
       "         -2.45241801e-01,  -2.43352968e-01,  -2.41464134e-01,\n",
       "         -2.39575301e-01,  -2.37686468e-01,  -2.35797634e-01,\n",
       "         -2.33908801e-01,  -2.32019968e-01,  -2.30131134e-01,\n",
       "         -2.28242301e-01,  -2.26353467e-01,  -2.24464634e-01,\n",
       "         -2.22575801e-01,  -2.20686967e-01,  -2.18798134e-01,\n",
       "         -2.16909301e-01,  -2.15020467e-01,  -2.13131634e-01,\n",
       "         -2.11242801e-01,  -2.09353967e-01,  -2.07465134e-01,\n",
       "         -2.05576301e-01,  -2.03687467e-01,  -2.01798634e-01,\n",
       "         -1.99909801e-01,  -1.98020967e-01,  -1.96132134e-01,\n",
       "         -1.94243300e-01,  -1.92354467e-01,  -1.90465634e-01,\n",
       "         -1.88576800e-01,  -1.86687967e-01,  -1.84799134e-01,\n",
       "         -1.82910300e-01,  -1.81021467e-01,  -1.79132634e-01,\n",
       "         -1.77243800e-01,  -1.75354967e-01,  -1.73466134e-01,\n",
       "         -1.71577300e-01,  -1.69688467e-01,  -1.67799633e-01,\n",
       "         -1.65910800e-01,  -1.64021967e-01,  -1.62133133e-01,\n",
       "         -1.60244300e-01,  -1.58355467e-01,  -1.56466633e-01,\n",
       "         -1.54577800e-01,  -1.52688967e-01,  -1.50800133e-01,\n",
       "         -1.48911300e-01,  -1.47022467e-01,  -1.45133633e-01,\n",
       "         -1.43244800e-01,  -1.41355967e-01,  -1.39467133e-01,\n",
       "         -1.37578300e-01,  -1.35689466e-01,  -1.33800633e-01,\n",
       "         -1.31911800e-01,  -1.30022966e-01,  -1.28134133e-01,\n",
       "         -1.26245300e-01,  -1.24356466e-01,  -1.22467633e-01,\n",
       "         -1.20578800e-01,  -1.18689966e-01,  -1.16801133e-01,\n",
       "         -1.14912300e-01,  -1.13023466e-01,  -1.11134633e-01,\n",
       "         -1.09245800e-01,  -1.07356966e-01,  -1.05468133e-01,\n",
       "         -1.03579299e-01,  -1.01690466e-01,  -9.98016327e-02,\n",
       "         -9.79127994e-02,  -9.60239660e-02,  -9.41351327e-02,\n",
       "         -9.22462993e-02,  -9.03574660e-02,  -8.84686326e-02,\n",
       "         -8.65797993e-02,  -8.46909659e-02,  -8.28021325e-02,\n",
       "         -8.09132992e-02,  -7.90244658e-02,  -7.71356325e-02,\n",
       "         -7.52467991e-02,  -7.33579658e-02,  -7.14691324e-02,\n",
       "         -6.95802991e-02,  -6.76914657e-02,  -6.58026324e-02,\n",
       "         -6.39137990e-02,  -6.20249656e-02,  -6.01361323e-02,\n",
       "         -5.82472989e-02,  -5.63584656e-02,  -5.44696322e-02,\n",
       "         -5.25807989e-02,  -5.06919655e-02,  -4.88031322e-02,\n",
       "         -4.69142988e-02,  -4.50254655e-02,  -4.31366321e-02,\n",
       "         -4.12477987e-02,  -3.93589654e-02,  -3.74701320e-02,\n",
       "         -3.55812987e-02,  -3.36924653e-02,  -3.18036320e-02,\n",
       "         -2.99147986e-02,  -2.80259653e-02,  -2.61371319e-02,\n",
       "         -2.42482986e-02,  -2.23594652e-02,  -2.04706318e-02,\n",
       "         -1.85817985e-02,  -1.66929651e-02,  -1.48041318e-02,\n",
       "         -1.29152984e-02,  -1.10264651e-02,  -9.13763172e-03,\n",
       "         -7.24879837e-03,  -5.35996501e-03,  -3.47113166e-03,\n",
       "         -1.58229830e-03,   3.06535051e-04,   2.19536841e-03,\n",
       "          4.08420176e-03,   5.97303511e-03,   7.86186847e-03,\n",
       "          9.75070182e-03,   1.16395352e-02,   1.35283685e-02,\n",
       "          1.54172019e-02,   1.73060352e-02,   1.91948686e-02,\n",
       "          2.10837020e-02,   2.29725353e-02,   2.48613687e-02,\n",
       "          2.67502020e-02,   2.86390354e-02,   3.05278687e-02,\n",
       "          3.24167021e-02,   3.43055354e-02,   3.61943688e-02,\n",
       "          3.80832021e-02,   3.99720355e-02,   4.18608689e-02,\n",
       "          4.37497022e-02,   4.56385356e-02,   4.75273689e-02,\n",
       "          4.94162023e-02,   5.13050356e-02,   5.31938690e-02,\n",
       "          5.50827023e-02,   5.69715357e-02,   5.88603690e-02,\n",
       "          6.07492024e-02,   6.26380357e-02,   6.45268691e-02,\n",
       "          6.64157025e-02,   6.83045358e-02,   7.01933692e-02,\n",
       "          7.20822025e-02,   7.39710359e-02,   7.58598692e-02,\n",
       "          7.77487026e-02,   7.96375359e-02,   8.15263693e-02,\n",
       "          8.34152026e-02,   8.53040360e-02,   8.71928694e-02,\n",
       "          8.90817027e-02,   9.09705361e-02,   9.28593694e-02,\n",
       "          9.47482028e-02,   9.66370361e-02,   9.85258695e-02,\n",
       "          1.00414703e-01,   1.02303536e-01,   1.04192370e-01,\n",
       "          1.06081203e-01,   1.07970036e-01,   1.09858870e-01,\n",
       "          1.11747703e-01,   1.13636536e-01,   1.15525370e-01,\n",
       "          1.17414203e-01,   1.19303036e-01,   1.21191870e-01,\n",
       "          1.23080703e-01,   1.24969536e-01,   1.26858370e-01,\n",
       "          1.28747203e-01,   1.30636037e-01,   1.32524870e-01,\n",
       "          1.34413703e-01,   1.36302537e-01,   1.38191370e-01,\n",
       "          1.40080203e-01,   1.41969037e-01,   1.43857870e-01,\n",
       "          1.45746703e-01,   1.47635537e-01,   1.49524370e-01,\n",
       "          1.51413203e-01,   1.53302037e-01,   1.55190870e-01,\n",
       "          1.57079703e-01,   1.58968537e-01,   1.60857370e-01,\n",
       "          1.62746204e-01,   1.64635037e-01,   1.66523870e-01,\n",
       "          1.68412704e-01,   1.70301537e-01,   1.72190370e-01,\n",
       "          1.74079204e-01,   1.75968037e-01,   1.77856870e-01,\n",
       "          1.79745704e-01,   1.81634537e-01,   1.83523370e-01,\n",
       "          1.85412204e-01,   1.87301037e-01,   1.89189871e-01,\n",
       "          1.91078704e-01,   1.92967537e-01,   1.94856371e-01,\n",
       "          1.96745204e-01,   1.98634037e-01,   2.00522871e-01,\n",
       "          2.02411704e-01,   2.04300537e-01,   2.06189371e-01,\n",
       "          2.08078204e-01,   2.09967037e-01,   2.11855871e-01,\n",
       "          2.13744704e-01,   2.15633537e-01,   2.17522371e-01,\n",
       "          2.19411204e-01,   2.21300038e-01,   2.23188871e-01,\n",
       "          2.25077704e-01,   2.26966538e-01,   2.28855371e-01,\n",
       "          2.30744204e-01,   2.32633038e-01,   2.34521871e-01,\n",
       "          2.36410704e-01,   2.38299538e-01,   2.40188371e-01,\n",
       "          2.42077204e-01,   2.43966038e-01,   2.45854871e-01,\n",
       "          2.47743704e-01,   2.49632538e-01,   2.51521371e-01,\n",
       "          2.53410205e-01,   2.55299038e-01,   2.57187871e-01,\n",
       "          2.59076705e-01,   2.60965538e-01,   2.62854371e-01,\n",
       "          2.64743205e-01,   2.66632038e-01,   2.68520871e-01,\n",
       "          2.70409705e-01,   2.72298538e-01,   2.74187371e-01,\n",
       "          2.76076205e-01,   2.77965038e-01,   2.79853872e-01,\n",
       "          2.81742705e-01,   2.83631538e-01,   2.85520372e-01,\n",
       "          2.87409205e-01,   2.89298038e-01,   2.91186872e-01,\n",
       "          2.93075705e-01,   2.94964538e-01,   2.96853372e-01,\n",
       "          2.98742205e-01,   3.00631038e-01,   3.02519872e-01,\n",
       "          3.04408705e-01,   3.06297538e-01,   3.08186372e-01,\n",
       "          3.10075205e-01,   3.11964039e-01,   3.13852872e-01,\n",
       "          3.15741705e-01,   3.17630539e-01,   3.19519372e-01,\n",
       "          3.21408205e-01,   3.23297039e-01,   3.25185872e-01,\n",
       "          3.27074705e-01,   3.28963539e-01,   3.30852372e-01,\n",
       "          3.32741205e-01,   3.34630039e-01,   3.36518872e-01,\n",
       "          3.38407706e-01,   3.40296539e-01,   3.42185372e-01,\n",
       "          3.44074206e-01,   3.45963039e-01,   3.47851872e-01,\n",
       "          3.49740706e-01,   3.51629539e-01,   3.53518372e-01,\n",
       "          3.55407206e-01,   3.57296039e-01,   3.59184872e-01,\n",
       "          3.61073706e-01,   3.62962539e-01,   3.64851372e-01,\n",
       "          3.66740206e-01,   3.68629039e-01,   3.70517873e-01,\n",
       "          3.72406706e-01,   3.74295539e-01,   3.76184373e-01,\n",
       "          3.78073206e-01,   3.79962039e-01,   3.81850873e-01,\n",
       "          3.83739706e-01,   3.85628539e-01,   3.87517373e-01,\n",
       "          3.89406206e-01,   3.91295039e-01,   3.93183873e-01,\n",
       "          3.95072706e-01,   3.96961539e-01,   3.98850373e-01,\n",
       "          4.00739206e-01,   4.02628040e-01,   4.04516873e-01,\n",
       "          4.06405706e-01,   4.08294540e-01,   4.10183373e-01,\n",
       "          4.12072206e-01,   4.13961040e-01,   4.15849873e-01,\n",
       "          4.17738706e-01,   4.19627540e-01,   4.21516373e-01,\n",
       "          4.23405206e-01,   4.25294040e-01,   4.27182873e-01,\n",
       "          4.29071707e-01,   4.30960540e-01,   4.32849373e-01,\n",
       "          4.34738207e-01,   4.36627040e-01,   4.38515873e-01,\n",
       "          4.40404707e-01,   4.42293540e-01,   4.44182373e-01,\n",
       "          4.46071207e-01,   4.47960040e-01,   4.49848873e-01,\n",
       "          4.51737707e-01,   4.53626540e-01,   4.55515373e-01,\n",
       "          4.57404207e-01,   4.59293040e-01,   4.61181874e-01,\n",
       "          4.63070707e-01,   4.64959540e-01,   4.66848374e-01]),\n",
       " <a list of 500 Patch objects>)"
      ]
     },
     "execution_count": 41,
     "metadata": {},
     "output_type": "execute_result"
    },
    {
     "data": {
      "image/png": "[encoded data removed]",
      "text/plain": [
       "<matplotlib.figure.Figure at 0x10ff04210>"
      ]
     },
     "metadata": {},
     "output_type": "display_data"
    }
   ],
   "source": [
    "import numpy as np\n",
    "import matplotlib.pyplot as plt\n",
    "mu, sigma = 0, 0.1\n",
    "normal_dist = np.random.normal(mu, sigma, 50000)\n",
    "plt.hist(normal_dist, bins=500)"
   ]
  },
  {
   "cell_type": "code",
   "execution_count": 22,
   "metadata": {
    "collapsed": false
   },
   "outputs": [
    {
     "data": {
      "text/html": [
       "<div style=\"max-height:1000px;max-width:1500px;overflow:auto;\">\n",
       "<table border=\"1\" class=\"dataframe\">\n",
       "  <thead>\n",
       "    <tr style=\"text-align: right;\">\n",
       "      <th></th>\n",
       "      <th>Open</th>\n",
       "      <th>High</th>\n",
       "      <th>Low</th>\n",
       "      <th>Close</th>\n",
       "      <th>Volume</th>\n",
       "      <th>Adj Close</th>\n",
       "    </tr>\n",
       "    <tr>\n",
       "      <th>Date</th>\n",
       "      <th></th>\n",
       "      <th></th>\n",
       "      <th></th>\n",
       "      <th></th>\n",
       "      <th></th>\n",
       "      <th></th>\n",
       "    </tr>\n",
       "  </thead>\n",
       "  <tbody>\n",
       "    <tr>\n",
       "      <th>2015-04-01</th>\n",
       "      <td>82.50</td>\n",
       "      <td>82.72</td>\n",
       "      <td>80.87</td>\n",
       "      <td>81.67</td>\n",
       "      <td>22058200</td>\n",
       "      <td>81.67</td>\n",
       "    </tr>\n",
       "    <tr>\n",
       "      <th>2015-04-02</th>\n",
       "      <td>82.25</td>\n",
       "      <td>82.56</td>\n",
       "      <td>81.44</td>\n",
       "      <td>81.56</td>\n",
       "      <td>19664100</td>\n",
       "      <td>81.56</td>\n",
       "    </tr>\n",
       "    <tr>\n",
       "      <th>2015-04-06</th>\n",
       "      <td>80.80</td>\n",
       "      <td>82.81</td>\n",
       "      <td>80.80</td>\n",
       "      <td>82.44</td>\n",
       "      <td>19062900</td>\n",
       "      <td>82.44</td>\n",
       "    </tr>\n",
       "    <tr>\n",
       "      <th>2015-04-07</th>\n",
       "      <td>82.65</td>\n",
       "      <td>83.42</td>\n",
       "      <td>82.22</td>\n",
       "      <td>82.32</td>\n",
       "      <td>17467000</td>\n",
       "      <td>82.32</td>\n",
       "    </tr>\n",
       "    <tr>\n",
       "      <th>2015-04-08</th>\n",
       "      <td>82.63</td>\n",
       "      <td>83.10</td>\n",
       "      <td>81.84</td>\n",
       "      <td>82.28</td>\n",
       "      <td>18966700</td>\n",
       "      <td>82.28</td>\n",
       "    </tr>\n",
       "  </tbody>\n",
       "</table>\n",
       "</div>"
      ],
      "text/plain": [
       "             Open   High    Low  Close    Volume  Adj Close\n",
       "Date                                                       \n",
       "2015-04-01  82.50  82.72  80.87  81.67  22058200      81.67\n",
       "2015-04-02  82.25  82.56  81.44  81.56  19664100      81.56\n",
       "2015-04-06  80.80  82.81  80.80  82.44  19062900      82.44\n",
       "2015-04-07  82.65  83.42  82.22  82.32  17467000      82.32\n",
       "2015-04-08  82.63  83.10  81.84  82.28  18966700      82.28"
      ]
     },
     "execution_count": 22,
     "metadata": {},
     "output_type": "execute_result"
    }
   ],
   "source": [
    "import pandas.io.data\n",
    "import datetime\n",
    "aapl = pd.io.data.get_data_yahoo('FB', \n",
    "                                 start=datetime.datetime(2015, 4, 1), \n",
    "                                 end=datetime.datetime(2015, 4, 28))\n",
    "aapl.head()"
   ]
  },
  {
   "cell_type": "markdown",
   "metadata": {},
   "source": [
    "## Plotting!"
   ]
  },
  {
   "cell_type": "code",
   "execution_count": 23,
   "metadata": {
    "collapsed": false
   },
   "outputs": [
    {
     "name": "stdout",
     "output_type": "stream",
     "text": [
      "\n"
     ]
    },
    {
     "data": {
      "image/png": "[encoded data removed]",
      "text/plain": [
       "<matplotlib.figure.Figure at 0x10b254150>"
      ]
     },
     "metadata": {},
     "output_type": "display_data"
    }
   ],
   "source": [
    "    fig = plt.figure(figsize=(20,16))\n",
    "\n",
    "    ax = fig.add_subplot(2,2,1)\n",
    "    ax.plot(aapl.index, aapl['Close'])\n",
    "    ax.set_title('Line plots', size=24)\n",
    "\n",
    "ax = fig.add_subplot(2,2,2)\n",
    "ax.plot(aapl['Close'], 'o')\n",
    "ax.set_title('Scatter plots', size=24)\n",
    "\n",
    "ax = fig.add_subplot(2,2,3)\n",
    "ax.hist(normal_dist, bins=50)\n",
    "ax.set_title('Histograms', size=24)\n",
    "ax.set_xlabel('count', size=16)\n",
    "\n",
    "ax = fig.add_subplot(2,2,4)\n",
    "ax.boxplot(normal_dist)\n",
    "ax.set_title('Boxplots', size=24)\n",
    "print"
   ]
  },
  {
   "cell_type": "markdown",
   "metadata": {},
   "source": [
    "## 1. Python Data types"
   ]
  },
  {
   "cell_type": "code",
   "execution_count": 24,
   "metadata": {
    "collapsed": false
   },
   "outputs": [
    {
     "data": {
      "text/plain": [
       "int"
      ]
     },
     "execution_count": 24,
     "metadata": {},
     "output_type": "execute_result"
    }
   ],
   "source": [
    "type(42)"
   ]
  },
  {
   "cell_type": "code",
   "execution_count": 25,
   "metadata": {
    "collapsed": false
   },
   "outputs": [
    {
     "name": "stdout",
     "output_type": "stream",
     "text": [
      "3.14159265359\n"
     ]
    }
   ],
   "source": [
    "from math import pi\n",
    "type(pi)\n",
    "print pi"
   ]
  },
  {
   "cell_type": "code",
   "execution_count": 26,
   "metadata": {
    "collapsed": false
   },
   "outputs": [
    {
     "data": {
      "text/plain": [
       "str"
      ]
     },
     "execution_count": 26,
     "metadata": {},
     "output_type": "execute_result"
    }
   ],
   "source": [
    "type('matt')"
   ]
  },
  {
   "cell_type": "code",
   "execution_count": 27,
   "metadata": {
    "collapsed": false
   },
   "outputs": [
    {
     "data": {
      "text/plain": [
       "unicode"
      ]
     },
     "execution_count": 27,
     "metadata": {},
     "output_type": "execute_result"
    }
   ],
   "source": [
    "type(u'matt')"
   ]
  },
  {
   "cell_type": "markdown",
   "metadata": {},
   "source": [
    "## 2. Basic Python execution"
   ]
  },
  {
   "cell_type": "code",
   "execution_count": 28,
   "metadata": {
    "collapsed": false
   },
   "outputs": [],
   "source": [
    "test_integer = 42\n",
    "test_float = pi\n",
    "test_string = 'matt'"
   ]
  },
  {
   "cell_type": "markdown",
   "metadata": {},
   "source": [
    "#### Basic print"
   ]
  },
  {
   "cell_type": "code",
   "execution_count": 29,
   "metadata": {
    "collapsed": false
   },
   "outputs": [
    {
     "name": "stdout",
     "output_type": "stream",
     "text": [
      "(42, 3.141592653589793, 'matt')\n"
     ]
    }
   ],
   "source": [
    "print (test_integer, test_float, test_string)"
   ]
  },
  {
   "cell_type": "markdown",
   "metadata": {},
   "source": [
    "#### C-style formatting"
   ]
  },
  {
   "cell_type": "code",
   "execution_count": 30,
   "metadata": {
    "collapsed": false
   },
   "outputs": [
    {
     "name": "stdout",
     "output_type": "stream",
     "text": [
      "42 3.141593 matt\n",
      "42 3.14 matt\n"
     ]
    }
   ],
   "source": [
    "print (\"%d %f %s\") % (test_integer, test_float, test_string)\n",
    "print (\"%d %.2f %s\") % (test_integer, test_float, test_string)"
   ]
  },
  {
   "cell_type": "markdown",
   "metadata": {},
   "source": [
    "#### Format - the pythonic way"
   ]
  },
  {
   "cell_type": "code",
   "execution_count": 31,
   "metadata": {
    "collapsed": false
   },
   "outputs": [
    {
     "name": "stdout",
     "output_type": "stream",
     "text": [
      "42 3.14159265359 matt\n",
      "42 3.14 matt\n"
     ]
    }
   ],
   "source": [
    "print (\"{} {} {}\").format(test_integer, test_float, test_string)\n",
    "print (\"{} {:.2f} {}\").format(test_integer, test_float, test_string)"
   ]
  },
  {
   "cell_type": "markdown",
   "metadata": {},
   "source": [
    "## Python operations"
   ]
  },
  {
   "cell_type": "code",
   "execution_count": 32,
   "metadata": {
    "collapsed": false
   },
   "outputs": [
    {
     "data": {
      "text/plain": [
       "3.5"
      ]
     },
     "execution_count": 32,
     "metadata": {},
     "output_type": "execute_result"
    }
   ],
   "source": [
    "1 + 2.5"
   ]
  },
  {
   "cell_type": "code",
   "execution_count": 33,
   "metadata": {
    "collapsed": false
   },
   "outputs": [
    {
     "ename": "TypeError",
     "evalue": "cannot concatenate 'str' and 'int' objects",
     "output_type": "error",
     "traceback": [
      "\u001b[0;31m---------------------------------------------------------------------------\u001b[0m",
      "\u001b[0;31mTypeError\u001b[0m                                 Traceback (most recent call last)",
      "\u001b[0;32m<ipython-input-33-c5ddb2ff93cd>\u001b[0m in \u001b[0;36m<module>\u001b[0;34m()\u001b[0m\n\u001b[0;32m----> 1\u001b[0;31m \u001b[0;34m'matt'\u001b[0m \u001b[0;34m+\u001b[0m \u001b[0;36m1\u001b[0m\u001b[0;34m\u001b[0m\u001b[0m\n\u001b[0m",
      "\u001b[0;31mTypeError\u001b[0m: cannot concatenate 'str' and 'int' objects"
     ]
    }
   ],
   "source": [
    "'matt' + 1"
   ]
  },
  {
   "cell_type": "markdown",
   "metadata": {},
   "source": [
    "### Python 2.7 division"
   ]
  },
  {
   "cell_type": "code",
   "execution_count": 34,
   "metadata": {
    "collapsed": false
   },
   "outputs": [],
   "source": [
    "numerator, denominator = 1,2"
   ]
  },
  {
   "cell_type": "markdown",
   "metadata": {},
   "source": [
    "#### Important to remember:"
   ]
  },
  {
   "cell_type": "code",
   "execution_count": 35,
   "metadata": {
    "collapsed": false
   },
   "outputs": [
    {
     "name": "stdout",
     "output_type": "stream",
     "text": [
      "0\n"
     ]
    }
   ],
   "source": [
    "print (numerator / denominator)"
   ]
  },
  {
   "cell_type": "code",
   "execution_count": 36,
   "metadata": {
    "collapsed": false
   },
   "outputs": [
    {
     "name": "stdout",
     "output_type": "stream",
     "text": [
      "0.5\n"
     ]
    }
   ],
   "source": [
    "print (numerator / float(denominator))"
   ]
  },
  {
   "cell_type": "code",
   "execution_count": 37,
   "metadata": {
    "collapsed": false
   },
   "outputs": [
    {
     "name": "stdout",
     "output_type": "stream",
     "text": [
      "0\n",
      "0.5\n"
     ]
    }
   ],
   "source": [
    "print 1/2\n",
    "from __future__ import division\n",
    "print 1/2"
   ]
  },
  {
   "cell_type": "markdown",
   "metadata": {},
   "source": [
    "### 3. Python Data Structures"
   ]
  },
  {
   "cell_type": "markdown",
   "metadata": {},
   "source": [
    "## Lists [ ]"
   ]
  },
  {
   "cell_type": "markdown",
   "metadata": {},
   "source": [
    "- aka arrays\n",
    "- ordered\n",
    "- mutable\n",
    "- mixed types "
   ]
  },
  {
   "cell_type": "code",
   "execution_count": null,
   "metadata": {
    "collapsed": false
   },
   "outputs": [],
   "source": [
    "price_per_sq_foot = [300,324,220,976,347,888,134,95,567,1400,120]\n",
    "type(price_per_sq_foot)"
   ]
  },
  {
   "cell_type": "markdown",
   "metadata": {},
   "source": [
    "#### list operations:"
   ]
  },
  {
   "cell_type": "code",
   "execution_count": null,
   "metadata": {
    "collapsed": false
   },
   "outputs": [],
   "source": [
    "#Number of elements in the list\n",
    "print \"There are {} elements in the list\".format(len(price_per_sq_foot))\n",
    "print\n",
    "\n",
    "#Add an item to the end of the list\n",
    "price_per_sq_foot.append(1000)\n",
    "print \"Updated price per square foot\"\n",
    "print (price_per_sq_foot)\n",
    "\n",
    "#Remove and return most recent element\n",
    "last_element = price_per_sq_foot.pop()\n",
    "print \"Last in, updated price per sq foot\"\n",
    "print (last_element, price_per_sq_foot)\n",
    "\n",
    "#Sort the array\n",
    "print \"Sorted list\"\n",
    "print sorted(price_per_sq_foot)\n",
    "\n",
    "#Reverse order\n",
    "print \"Reverse order\"\n",
    "print sorted(price_per_sq_foot)[::-1]"
   ]
  },
  {
   "cell_type": "markdown",
   "metadata": {},
   "source": [
    "#### List slicing"
   ]
  },
  {
   "cell_type": "code",
   "execution_count": null,
   "metadata": {
    "collapsed": false
   },
   "outputs": [],
   "source": [
    "#First element\n",
    "sorted_ppsf = sorted(price_per_sq_foot)\n",
    "print \"First element\"\n",
    "print 'Cheapest: {}'.format(sorted_ppsf[0])\n",
    "print \n",
    "print \"Last element\"\n",
    "print 'Most expensive: {}'.format(sorted_ppsf[len(sorted_ppsf) - 1])\n",
    "#or\n",
    "print 'Most expensive: {}'.format(sorted_ppsf[-1])"
   ]
  },
  {
   "cell_type": "markdown",
   "metadata": {},
   "source": [
    "## Tuples ( )"
   ]
  },
  {
   "cell_type": "markdown",
   "metadata": {},
   "source": [
    "- immutable\n",
    "- can't change / sort\n",
    "- functional programming"
   ]
  },
  {
   "cell_type": "code",
   "execution_count": 42,
   "metadata": {
    "collapsed": false
   },
   "outputs": [
    {
     "name": "stdout",
     "output_type": "stream",
     "text": [
      "1\n",
      "2\n"
     ]
    },
    {
     "ename": "TypeError",
     "evalue": "'tuple' object does not support item assignment",
     "output_type": "error",
     "traceback": [
      "\u001b[0;31m---------------------------------------------------------------------------\u001b[0m",
      "\u001b[0;31mTypeError\u001b[0m                                 Traceback (most recent call last)",
      "\u001b[0;32m<ipython-input-42-6417465cec9e>\u001b[0m in \u001b[0;36m<module>\u001b[0;34m()\u001b[0m\n\u001b[1;32m      2\u001b[0m \u001b[0;32mprint\u001b[0m \u001b[0mtest\u001b[0m\u001b[0;34m[\u001b[0m\u001b[0;36m0\u001b[0m\u001b[0;34m]\u001b[0m\u001b[0;34m\u001b[0m\u001b[0m\n\u001b[1;32m      3\u001b[0m \u001b[0;32mprint\u001b[0m \u001b[0mtest\u001b[0m\u001b[0;34m[\u001b[0m\u001b[0;36m1\u001b[0m\u001b[0;34m]\u001b[0m\u001b[0;34m\u001b[0m\u001b[0m\n\u001b[0;32m----> 4\u001b[0;31m \u001b[0mtest\u001b[0m\u001b[0;34m[\u001b[0m\u001b[0;36m0\u001b[0m\u001b[0;34m]\u001b[0m \u001b[0;34m=\u001b[0m \u001b[0mtest\u001b[0m\u001b[0;34m[\u001b[0m\u001b[0;36m1\u001b[0m\u001b[0;34m]\u001b[0m\u001b[0;34m\u001b[0m\u001b[0m\n\u001b[0m",
      "\u001b[0;31mTypeError\u001b[0m: 'tuple' object does not support item assignment"
     ]
    }
   ],
   "source": [
    "test = (1, 2)\n",
    "print test[0]\n",
    "print test[1]\n",
    "test[0] = test[1]"
   ]
  },
  {
   "cell_type": "markdown",
   "metadata": {},
   "source": [
    "## Dictionary { }"
   ]
  },
  {
   "cell_type": "markdown",
   "metadata": {},
   "source": [
    "- aka associate arrays / key-value pairs\n",
    "- mutable\n",
    "- unordered"
   ]
  },
  {
   "cell_type": "code",
   "execution_count": null,
   "metadata": {
    "collapsed": false
   },
   "outputs": [],
   "source": [
    "#Can contain multiple types\n",
    "employee_info = {'id': 123, 'name': 'Matthew', 'manages': [45,67,90], 'managed_by': 2}\n",
    "print \"Name {}: Headcount: {}\".format(employee_info['name'], len(employee_info['manages']))"
   ]
  },
  {
   "cell_type": "code",
   "execution_count": null,
   "metadata": {
    "collapsed": false
   },
   "outputs": [],
   "source": [
    "offensive_skill_dict = {'RB': 'Running Back', 'WR': 'Wide Receiver', 'QB': 'Quarterback', 'FB': 'Full back', 'TE': 'Tight End'}\n",
    "print offensive_skill_dict"
   ]
  },
  {
   "cell_type": "code",
   "execution_count": null,
   "metadata": {
    "collapsed": false
   },
   "outputs": [],
   "source": [
    "print offensive_skill_dict.keys()"
   ]
  },
  {
   "cell_type": "markdown",
   "metadata": {},
   "source": [
    "### Sets"
   ]
  },
  {
   "cell_type": "markdown",
   "metadata": {},
   "source": [
    "- unique\n",
    "- cool operations"
   ]
  },
  {
   "cell_type": "code",
   "execution_count": null,
   "metadata": {
    "collapsed": false
   },
   "outputs": [],
   "source": [
    "#remove redundant entries\n",
    "list_list = [1,1,2,4,6,8,3,1,2,4,5]\n",
    "set_list = set(list_list)\n",
    "print set_list"
   ]
  },
  {
   "cell_type": "code",
   "execution_count": null,
   "metadata": {
    "collapsed": false
   },
   "outputs": [],
   "source": [
    "#Set operations\n",
    "panel_a, panel_b = set(('BRCA1', 'BRCA2', 'TP53', 'CHEK2', 'MYC')), set(('CHEK2', 'SPHK1', 'MYCN', 'MYC'))\n",
    "\n",
    "print \"Genes in panel 1 but not in panel b: {}\\n\".format((panel_a - panel_b))\n",
    "print \"Genes in both panels (Intersection): {}\\n\".format(panel_a & panel_b)\n",
    "print \"All the genes: {}\\n\".format(panel_a | panel_b)\n",
    "print \"Genes in A that aren't in B, genes in B that aren't in A (symmetric difference): {}\\n\".format(panel_a ^ panel_b)\n"
   ]
  },
  {
   "cell_type": "code",
   "execution_count": null,
   "metadata": {
    "collapsed": false
   },
   "outputs": [],
   "source": []
  },
  {
   "cell_type": "markdown",
   "metadata": {},
   "source": [
    "### 4. flow control"
   ]
  },
  {
   "cell_type": "markdown",
   "metadata": {},
   "source": [
    "### iterating through a list"
   ]
  },
  {
   "cell_type": "code",
   "execution_count": 45,
   "metadata": {
    "collapsed": false
   },
   "outputs": [],
   "source": [
    "my_list = ['Jimmy Carter','Ronald Regan','George Bush','Bill Clinton', 'George HW Bush', 'Barack Obama']"
   ]
  },
  {
   "cell_type": "code",
   "execution_count": null,
   "metadata": {
    "collapsed": false
   },
   "outputs": [],
   "source": [
    "#Not the best way\n",
    "for index in range(0, len(my_list)):\n",
    "    print my_list[index]"
   ]
  },
  {
   "cell_type": "code",
   "execution_count": null,
   "metadata": {
    "collapsed": false
   },
   "outputs": [],
   "source": [
    "#Better\n",
    "for president in my_list:\n",
    "    print (president)"
   ]
  },
  {
   "cell_type": "code",
   "execution_count": null,
   "metadata": {
    "collapsed": false
   },
   "outputs": [],
   "source": [
    "#what if I want the index too\n",
    "for index, president in enumerate(my_list):\n",
    "    print index, president"
   ]
  },
  {
   "cell_type": "code",
   "execution_count": 46,
   "metadata": {
    "collapsed": false
   },
   "outputs": [
    {
     "data": {
      "text/plain": [
       "['Jimmy Carter',\n",
       " 'Ronald Regan',\n",
       " 'George Bush',\n",
       " 'Bill Clinton',\n",
       " 'George HW Bush',\n",
       " 'Barack Obama']"
      ]
     },
     "execution_count": 46,
     "metadata": {},
     "output_type": "execute_result"
    }
   ],
   "source": [
    "#list comprehension - this is pythonic - and faster!\n",
    "[x for x in my_list]"
   ]
  },
  {
   "cell_type": "markdown",
   "metadata": {},
   "source": [
    "#### Faster?"
   ]
  },
  {
   "cell_type": "code",
   "execution_count": null,
   "metadata": {
    "collapsed": false
   },
   "outputs": [],
   "source": [
    "%%timeit\n",
    "result = []\n",
    "for x in range(1,10000):\n",
    "    for y in range(1,10000):\n",
    "        result.append(x)\n",
    "len(result)"
   ]
  },
  {
   "cell_type": "code",
   "execution_count": 43,
   "metadata": {
    "collapsed": false
   },
   "outputs": [
    {
     "name": "stdout",
     "output_type": "stream",
     "text": [
      "1 loops, best of 3: 4.47 s per loop\n"
     ]
    }
   ],
   "source": [
    "%%timeit\n",
    "field = [x for x in range(1,10000) for y in range(1,10000)]\n",
    "len(field)"
   ]
  },
  {
   "cell_type": "code",
   "execution_count": null,
   "metadata": {
    "collapsed": false
   },
   "outputs": [],
   "source": [
    "zip"
   ]
  },
  {
   "cell_type": "code",
   "execution_count": null,
   "metadata": {
    "collapsed": false
   },
   "outputs": [],
   "source": [
    "map"
   ]
  },
  {
   "cell_type": "code",
   "execution_count": null,
   "metadata": {
    "collapsed": false
   },
   "outputs": [],
   "source": [
    "lambda"
   ]
  },
  {
   "cell_type": "code",
   "execution_count": null,
   "metadata": {
    "collapsed": false
   },
   "outputs": [],
   "source": [
    "comprehensions"
   ]
  },
  {
   "cell_type": "markdown",
   "metadata": {},
   "source": [
    "### Additional Resources"
   ]
  },
  {
   "cell_type": "markdown",
   "metadata": {},
   "source": [
    "Web based viewer for ipython notebooks\n",
    "http://nbviewer.ipython.org/"
   ]
  }
 ],
 "metadata": {
  "kernelspec": {
   "display_name": "Python 2",
   "language": "python",
   "name": "python2"
  },
  "language_info": {
   "codemirror_mode": {
    "name": "ipython",
    "version": 2
   },
   "file_extension": ".py",
   "mimetype": "text/x-python",
   "name": "python",
   "nbconvert_exporter": "python",
   "pygments_lexer": "ipython2",
   "version": "2.7.9"
  }
 },
 "nbformat": 4,
 "nbformat_minor": 0
}
