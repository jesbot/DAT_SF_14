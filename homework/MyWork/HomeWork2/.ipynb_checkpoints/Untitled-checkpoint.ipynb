{
 "cells": [
  {
   "cell_type": "markdown",
   "metadata": {},
   "source": [
    "Homework 2:  Implement k-nearest neigbhors using the sklearn paackage.\n",
    "\n",
    "The primary code to address the required homework questions are given in this notebook instance, as well as the analysis required for question #6. \n",
    "\n",
    "As an additional excercies, I wrote up an implementation of k-means, and have included in the current directory for review. Sample output plots, ('kMeans_for_#Centroids*.png'), of the k-means algorithm are included that show expected results for the tulip data set. \n",
    "\n",
    "Author: Jose Solomon"
   ]
  }
 ],
 "metadata": {
  "kernelspec": {
   "display_name": "Python 2",
   "language": "python",
   "name": "python2"
  },
  "language_info": {
   "codemirror_mode": {
    "name": "ipython",
    "version": 2
   },
   "file_extension": ".py",
   "mimetype": "text/x-python",
   "name": "python",
   "nbconvert_exporter": "python",
   "pygments_lexer": "ipython2",
   "version": "2.7.9"
  }
 },
 "nbformat": 4,
 "nbformat_minor": 0
}
