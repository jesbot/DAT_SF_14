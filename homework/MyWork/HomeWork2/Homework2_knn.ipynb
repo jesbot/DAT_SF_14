{
 "cells": [
  {
   "cell_type": "markdown",
   "metadata": {},
   "source": [
    "Homework 2:  Implement k-nearest neigbhors using the sklearn paackage.\n",
    "\n",
    "The primary code to address the required homework questions are given in this notebook instance, as well as the analysis required for question #6. \n",
    "\n",
    "As an additional excercise, I wrote up an implementation of k-means, and have included in the current directory for review. Sample output plots, ('kMeans_for_#Centroids*.png'), of the k-means algorithm are included that show expected results using the tulip data set. \n",
    "\n",
    "Author: Jose Solomon"
   ]
  },
  {
   "cell_type": "code",
   "execution_count": 1,
   "metadata": {
    "collapsed": false
   },
   "outputs": [],
   "source": [
    "# Standard import statements\n",
    "%matplotlib inline\n",
    "from __future__ import division\n",
    "import pandas as pd\n",
    "import numpy as np\n",
    "import math\n",
    "#from seaborn import plt\n",
    "import matplotlib.pyplot as plt\n",
    "from sklearn.datasets import load_iris\n",
    "from matplotlib.colors import ListedColormap\n",
    "from sklearn import neighbors, datasets, feature_selection\n",
    "from sklearn.cross_validation import train_test_split, cross_val_score"
   ]
  },
  {
   "cell_type": "code",
   "execution_count": 2,
   "metadata": {
    "collapsed": false
   },
   "outputs": [
    {
     "data": {
      "text/html": [
       "<div style=\"max-height:1000px;max-width:1500px;overflow:auto;\">\n",
       "<table border=\"1\" class=\"dataframe\">\n",
       "  <thead>\n",
       "    <tr style=\"text-align: right;\">\n",
       "      <th></th>\n",
       "      <th>sepal length (cm)</th>\n",
       "      <th>sepal width (cm)</th>\n",
       "      <th>petal length (cm)</th>\n",
       "      <th>petal width (cm)</th>\n",
       "      <th>Target</th>\n",
       "    </tr>\n",
       "  </thead>\n",
       "  <tbody>\n",
       "    <tr>\n",
       "      <th>0</th>\n",
       "      <td>5.1</td>\n",
       "      <td>3.5</td>\n",
       "      <td>1.4</td>\n",
       "      <td>0.2</td>\n",
       "      <td>0</td>\n",
       "    </tr>\n",
       "    <tr>\n",
       "      <th>1</th>\n",
       "      <td>4.9</td>\n",
       "      <td>3.0</td>\n",
       "      <td>1.4</td>\n",
       "      <td>0.2</td>\n",
       "      <td>0</td>\n",
       "    </tr>\n",
       "    <tr>\n",
       "      <th>2</th>\n",
       "      <td>4.7</td>\n",
       "      <td>3.2</td>\n",
       "      <td>1.3</td>\n",
       "      <td>0.2</td>\n",
       "      <td>0</td>\n",
       "    </tr>\n",
       "  </tbody>\n",
       "</table>\n",
       "</div>"
      ],
      "text/plain": [
       "   sepal length (cm)  sepal width (cm)  petal length (cm)  petal width (cm)  \\\n",
       "0                5.1               3.5                1.4               0.2   \n",
       "1                4.9               3.0                1.4               0.2   \n",
       "2                4.7               3.2                1.3               0.2   \n",
       "\n",
       "   Target  \n",
       "0       0  \n",
       "1       0  \n",
       "2       0  "
      ]
     },
     "execution_count": 2,
     "metadata": {},
     "output_type": "execute_result"
    }
   ],
   "source": [
    "# 1. Implement KNN classification, using the sklearn package.\n",
    "\n",
    "# Load data\n",
    "irisRaw = datasets.load_iris()\n",
    "irisDF = pd.DataFrame(irisRaw.data, columns=irisRaw.feature_names)\n",
    "irisDF['Target'] = irisRaw.target\n",
    "irisDF.head(3)"
   ]
  },
  {
   "cell_type": "code",
   "execution_count": 49,
   "metadata": {
    "collapsed": false
   },
   "outputs": [
    {
     "name": "stdout",
     "output_type": "stream",
     "text": [
      "[1, 3, 5, 7, 9, 11, 13, 15, 17, 19, 21, 23, 25, 27, 29, 31, 33, 35, 37, 39, 41, 43, 45, 47, 49]\n",
      "Number of training points: 105\n"
     ]
    }
   ],
   "source": [
    "# Define a range of nearest neighbors\n",
    "nNeighbors = range(1,51,2)\n",
    "print nNeighbors\n",
    "# Use 'sklearn' package to create the test/train split\n",
    "xTrain, xTest, yTrain, yTest = train_test_split(irisRaw.data, irisRaw.target, test_size=0.3, random_state=12)\n",
    "\n",
    "# Review the break down of test versus training\n",
    "print \"Number of training points: {}\".format(xTrain.shape[0])\n",
    "#print xTrain"
   ]
  },
  {
   "cell_type": "code",
   "execution_count": 50,
   "metadata": {
    "collapsed": false
   },
   "outputs": [
    {
     "name": "stdout",
     "output_type": "stream",
     "text": [
      "Number of test points: 45\n"
     ]
    }
   ],
   "source": [
    "print \"Number of test points: {}\".format(xTest.shape[0])"
   ]
  },
  {
   "cell_type": "code",
   "execution_count": 51,
   "metadata": {
    "collapsed": false
   },
   "outputs": [
    {
     "name": "stdout",
     "output_type": "stream",
     "text": [
      "Nearest neighbors which created the most accurate classification without cross validation: 11\n"
     ]
    },
    {
     "data": {
      "text/plain": [
       "(0.9, 1.02)"
      ]
     },
     "execution_count": 51,
     "metadata": {},
     "output_type": "execute_result"
    },
    {
     "data": {
      "image/png": "[encoded data removed]",
      "text/plain": [
       "<matplotlib.figure.Figure at 0x10d3a72d0>"
      ]
     },
     "metadata": {},
     "output_type": "display_data"
    }
   ],
   "source": [
    "# Use the 'sklearn' knn classifier\n",
    "scores = []\n",
    "for n in nNeighbors:\n",
    "    kNNClassifier = neighbors.KNeighborsClassifier(n)\n",
    "    kNNClassifier.fit(xTrain, yTrain)\n",
    "    scores.append(kNNClassifier.score(xTest, yTest))\n",
    "\n",
    "maxAccuracy = nNeighbors[scores.index(max(scores))]\n",
    "print \"Nearest neighbors which created the most accurate classification without cross validation: {}\".format(maxAccuracy)\n",
    "\n",
    "# Plot results\n",
    "plt.plot(nNeighbors, scores, linewidth=3.0)\n",
    "plt.title('knn as Implemented by \\'sklearn\\'')\n",
    "plt.ylabel('Accuracy of Classification')\n",
    "plt.xlabel('Nearest Neighbors')\n",
    "plt.ylim((0.9,1.02))"
   ]
  },
  {
   "cell_type": "code",
   "execution_count": 64,
   "metadata": {
    "collapsed": false
   },
   "outputs": [
    {
     "name": "stdout",
     "output_type": "stream",
     "text": [
      "[ 0.93333333  1.          1.          0.96666667  1.        ]\n",
      "0.98\n"
     ]
    }
   ],
   "source": [
    "# 2. Use the sklearn package to implement cross-validation for your classifier. \n",
    "# Use 5 folds for your cross-validation.\n",
    "\n",
    "# Redefined your sub-dataframe\n",
    "irisDF = pd.DataFrame(irisRaw.data, columns=irisRaw.feature_names)\n",
    "\n",
    "# Perform knn with 5-fold cross-validation\n",
    "kNNClassifier2 = neighbors.KNeighborsClassifier(11, weights='uniform')\n",
    "kNNClassifier2.fit(irisRaw.data, irisRaw.target)\n",
    "scores2 = cross_val_score(kNNClassifier2, irisDF.values, irisRaw.target, cv=5)\n",
    "print scores2\n",
    "print scores2.mean()"
   ]
  },
  {
   "cell_type": "code",
   "execution_count": 66,
   "metadata": {
    "collapsed": false
   },
   "outputs": [
    {
     "name": "stdout",
     "output_type": "stream",
     "text": [
      "The optimal K using 5-fold cross-validation is 6.\n"
     ]
    }
   ],
   "source": [
    "# 3. Use your KNN classifier and cross-validation code from (1) and (2) above to determine the \n",
    "# optimal value of K (number of nearest neighbors to consult) for this Iris dataset.\n",
    "\n",
    "# Set ranges neighbors\n",
    "nNeighbors = range(1,51,1)\n",
    "\n",
    "# Define a total search matrix\n",
    "totalSearch = np.zeros((1,len(nNeighbors)))\n",
    "cIndex = 0\n",
    "# Iterate over neighbors\n",
    "for k in nNeighbors:\n",
    "    # Perform knn with f-fold cross-validation\n",
    "    kNNClassifier3 = neighbors.KNeighborsClassifier(k, weights='uniform')\n",
    "    kNNClassifier3.fit(irisRaw.data, irisRaw.target)\n",
    "    meanScores = cross_val_score(kNNClassifier3, irisDF.values, irisRaw.target, cv=5)\n",
    "\n",
    "    # Take the mean of the scores\n",
    "    totalSearch[0,cIndex] = meanScores.mean()\n",
    "    cIndex += 1\n",
    "    \n",
    "# Find the optimal K\n",
    "optimalK = nNeighbors[np.argmax(totalSearch)]\n",
    "print 'The optimal K using 5-fold cross-validation is {}.'.format(optimalK)"
   ]
  },
  {
   "cell_type": "code",
   "execution_count": 67,
   "metadata": {
    "collapsed": false
   },
   "outputs": [
    {
     "data": {
      "text/plain": [
       "<matplotlib.text.Text at 0x10defa890>"
      ]
     },
     "execution_count": 67,
     "metadata": {},
     "output_type": "execute_result"
    },
    {
     "data": {
      "image/png": "[encoded data removed]",
      "text/plain": [
       "<matplotlib.figure.Figure at 0x10defa9d0>"
      ]
     },
     "metadata": {},
     "output_type": "display_data"
    }
   ],
   "source": [
    "# 4. Using matplotlib, plot classifier accuracy versus the hyperparameter K for a range of K that you\n",
    "# consider interesting. Explain in words what you are seeing.\n",
    "\n",
    "# Most interesting range\n",
    "plt.plot(nNeighbors[2:20],totalSearch[0,2:20])\n",
    "plt.ylabel('Best Accuracy')\n",
    "plt.xlabel('Nearest Neighbors')\n",
    "plt.title('Optimal Range of K for 5 folds of CV')"
   ]
  },
  {
   "cell_type": "markdown",
   "metadata": {},
   "source": [
    "There seem to be a range of optimal values that are very close together before knn drops off in accuracy past 14. Roughly speaking, sqrt(totalDataPoints) is normally the maxium nearest neigbhor used in practice and we note that sqrt(150) is ~12.25, which is roughly where we see the drop."
   ]
  },
  {
   "cell_type": "code",
   "execution_count": 57,
   "metadata": {
    "collapsed": false
   },
   "outputs": [],
   "source": [
    "# 6. __EXTRA CREDIT 1__: Using the value of K obtained in (3) above, vary the number of folds used for \n",
    "# cross-validation across an interesting range, e.g. [ 2, 3, 5, 6, 10, 15]. How does classifier accuracy\n",
    "# vary with the number of folds used? Do you think there exists an optimal number of folds to use for \n",
    "# this particular problem? Why or why not?\n",
    "\n",
    "# I am going to optimize over the number of folds in terms of CV, and then take the fold which has the highest \n",
    "# mean per number across the varying number of neighbors and then find the optimal K. A bit convoluted, but this\n",
    "# can be done in many ways.\n",
    "\n",
    "# Set ranges neighbors\n",
    "nNeighbors = range(1,51,1)\n",
    "# Set range of folds\n",
    "folds = range(2, 24,1)\n",
    "\n",
    "# Define a total search matrix\n",
    "totalSearch = np.zeros((len(folds),len(nNeighbors)))\n",
    "\n",
    "# Redefined your sub-dataframe\n",
    "irisDF = pd.DataFrame(irisRaw.data, columns=irisRaw.feature_names)\n",
    "# scoresCV = np.zeros((len(nNeighbors),10))\n",
    "\n",
    "# Iterate through cross-validation\n",
    "rIndex = 0\n",
    "# Iterate over folds\n",
    "for f in folds:\n",
    "    cIndex = 0\n",
    "    # Iterate over neighbors\n",
    "    for k in nNeighbors:\n",
    "        # Perform knn with f-fold cross-validation\n",
    "        kNNClassifier4 = neighbors.KNeighborsClassifier(k, weights='uniform')\n",
    "        kNNClassifier4.fit(irisRaw.data, irisRaw.target)\n",
    "        meanScores = cross_val_score(kNNClassifier4, irisDF.values, irisRaw.target, cv=f)\n",
    "\n",
    "        # Take the mean of the scores\n",
    "        totalSearch[rIndex,cIndex] = meanScores.mean()\n",
    "        cIndex += 1\n",
    "                \n",
    "    rIndex += 1"
   ]
  },
  {
   "cell_type": "code",
   "execution_count": 58,
   "metadata": {
    "collapsed": false
   },
   "outputs": [
    {
     "data": {
      "text/plain": [
       "<matplotlib.text.Text at 0x10d3a79d0>"
      ]
     },
     "execution_count": 58,
     "metadata": {},
     "output_type": "execute_result"
    },
    {
     "data": {
      "image/png": "[encoded data removed]",
      "text/plain": [
       "<matplotlib.figure.Figure at 0x10d377b90>"
      ]
     },
     "metadata": {},
     "output_type": "display_data"
    }
   ],
   "source": [
    "# Take the mean per row of 'totalSearch'... this is the most accurate estimate\n",
    "bestAccuracy = totalSearch.mean(axis=1)\n",
    "# Optimal number of folds\n",
    "plt.plot(folds, bestAccuracy,  linewidth=3.0)\n",
    "plt.title('Optimizing the Cross-validation -- Optimal Folds = {}'.format(folds[np.argmax(bestAccuracy)]))\n",
    "plt.ylabel('Best Accuracy Achieved')\n",
    "plt.xlabel('Number of Folds for Cross-validation')"
   ]
  },
  {
   "cell_type": "code",
   "execution_count": 59,
   "metadata": {
    "collapsed": false
   },
   "outputs": [
    {
     "name": "stdout",
     "output_type": "stream",
     "text": [
      "[ 0.96296296  0.95679012  0.9691358   0.9691358   0.97530864  0.97530864\n",
      "  0.9691358   0.98148148  0.97530864  0.97530864  0.97530864  0.9691358\n",
      "  0.9691358   0.97530864  0.97530864  0.9691358   0.97530864  0.97530864\n",
      "  0.98148148  0.98148148  0.97530864  0.9691358   0.9691358   0.97530864\n",
      "  0.96296296  0.9691358   0.96296296  0.95061728  0.95679012  0.95679012\n",
      "  0.95679012  0.95061728  0.95061728  0.95061728  0.95679012  0.95061728\n",
      "  0.95061728  0.95061728  0.95061728  0.95061728  0.95061728  0.95061728\n",
      "  0.95679012  0.95061728  0.96296296  0.94444444  0.94444444  0.92592593\n",
      "  0.94444444  0.94444444]\n"
     ]
    }
   ],
   "source": [
    "# Find the optimal K for the optimal fold\n",
    "bestK = totalSearch[np.argmax(bestAccuracy),:]\n",
    "print bestK"
   ]
  },
  {
   "cell_type": "code",
   "execution_count": 60,
   "metadata": {
    "collapsed": false
   },
   "outputs": [
    {
     "data": {
      "text/plain": [
       "<matplotlib.text.Text at 0x10d7fdd90>"
      ]
     },
     "execution_count": 60,
     "metadata": {},
     "output_type": "execute_result"
    },
    {
     "data": {
      "image/png": "[encoded data removed]",
      "text/plain": [
       "<matplotlib.figure.Figure at 0x10bb60790>"
      ]
     },
     "metadata": {},
     "output_type": "display_data"
    }
   ],
   "source": [
    "# Optimal nearest neighbor\n",
    "plt.plot(nNeighbors, bestK,  linewidth=3.0)\n",
    "plt.title('Optimal k for 18 Folds in Cross-validation -- Optimal K = {}'.format(nNeighbors[np.argmax(bestK)]))\n",
    "plt.ylabel('Best Accuracy')\n",
    "plt.xlabel('Nearest Neighbors')\n"
   ]
  },
  {
   "cell_type": "markdown",
   "metadata": {},
   "source": [
    "So based on optimizing over the number of folds for cross-validation, and then using the fold that gave the highest overall mean in terms of accuracy, the optimal number of folds is 18 with an optimal k of 8. Interesting enough, this number appears to be insensitive to the 'random state' variable of 'train_test_split'."
   ]
  },
  {
   "cell_type": "code",
   "execution_count": 63,
   "metadata": {
    "collapsed": false
   },
   "outputs": [
    {
     "name": "stdout",
     "output_type": "stream",
     "text": [
      "Optimal k for 18 folds is 8\n"
     ]
    },
    {
     "data": {
      "text/plain": [
       "<matplotlib.text.Text at 0x10dbc6890>"
      ]
     },
     "execution_count": 63,
     "metadata": {},
     "output_type": "execute_result"
    },
    {
     "data": {
      "image/png": "[encoded data removed]",
      "text/plain": [
       "<matplotlib.figure.Figure at 0x10daa8610>"
      ]
     },
     "metadata": {},
     "output_type": "display_data"
    }
   ],
   "source": [
    "# Plot the results for the optimal fold.\n",
    "print \"Optimal k for 18 folds is {}\".format(nNeighbors[np.argmax(bestK)])\n",
    "\n",
    "# Most interesting range\n",
    "plt.plot(nNeighbors[5:25],bestK[5:25])\n",
    "plt.ylabel('Best Accuracy')\n",
    "plt.xlabel('Nearest Neighbors')\n",
    "plt.title('Optimal Range of K for 18 folds of CV')\n"
   ]
  },
  {
   "cell_type": "markdown",
   "metadata": {},
   "source": [
    "The results posted above are for 18 CV folds, and the there appears to maximums at 8, 19, and 20. The 'np.argmax' give 8 as the optimal folds, but when printing out the optimal accuracy values, the results for 8, 19 and 20 are the same up to 8 decimal places as shown below."
   ]
  },
  {
   "cell_type": "code",
   "execution_count": 386,
   "metadata": {
    "collapsed": false
   },
   "outputs": [
    {
     "name": "stdout",
     "output_type": "stream",
     "text": [
      "[ 0.96296296  0.95679012  0.9691358   0.9691358   0.97530864  0.97530864\n",
      "  0.9691358   0.98148148  0.97530864  0.97530864  0.97530864  0.9691358\n",
      "  0.9691358   0.97530864  0.97530864  0.9691358   0.97530864  0.97530864\n",
      "  0.98148148  0.98148148  0.97530864  0.9691358   0.9691358   0.97530864\n",
      "  0.96296296  0.9691358   0.96296296  0.95061728  0.95679012  0.95679012\n",
      "  0.95679012  0.95061728  0.95061728  0.95061728  0.95679012  0.95061728\n",
      "  0.95061728  0.95061728  0.95061728  0.95061728  0.95061728  0.95061728\n",
      "  0.95679012  0.95061728  0.96296296  0.94444444  0.94444444  0.92592593\n",
      "  0.94444444  0.94444444]\n"
     ]
    }
   ],
   "source": [
    "print bestK"
   ]
  }
 ],
 "metadata": {
  "kernelspec": {
   "display_name": "Python 2",
   "language": "python",
   "name": "python2"
  },
  "language_info": {
   "codemirror_mode": {
    "name": "ipython",
    "version": 2
   },
   "file_extension": ".py",
   "mimetype": "text/x-python",
   "name": "python",
   "nbconvert_exporter": "python",
   "pygments_lexer": "ipython2",
   "version": "2.7.9"
  }
 },
 "nbformat": 4,
 "nbformat_minor": 0
}
