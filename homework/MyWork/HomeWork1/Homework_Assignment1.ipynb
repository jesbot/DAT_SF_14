{
 "cells": [
  {
   "cell_type": "markdown",
   "metadata": {},
   "source": [
    "Homework 1: Analysis of 'titanic.csv' file using Python.\n",
    "\n",
    "Code is built to do required analysis on Titanic \n",
    "population pool and answer each of the questions in the assignment.\n",
    "\n",
    "Author: Jose Solomon\n",
    "\n",
    "3. How many male passengers were onboard?\n",
    "\n",
    "4. How many female passengers were onboard?\n",
    "\n",
    "\n",
    "5. What is the overall survival rate of male passengers?\n",
    "\n",
    "\n",
    "6. What is the overall survival rate of female passengers?\n",
    "\n",
    "\n",
    "7. What is the average age of all passengers onboard?\n",
    "    * How did you calculate this average age?\n",
    "    * Note that some of the passengers do not have an age value. How did you deal with this? What are some other ways of dealing with this?\n",
    "\n",
    "  \n",
    "8. What is the average age of passengers who survived?\n",
    "\n",
    "\n",
    "9. What is the average age of passengers who did not survive?\n",
    "\n",
    "10. At this (early) point in our analysis, what might you infer about any patterns\n",
    "you are seeing?\n",
    "\n",
    "11. How many passengers are in each of the three classes of service (e.g. First,\n",
    "Second, Third?)\n",
    "\n",
    "12. What is the survival rate for passengers in each of the three classes of service?\n",
    "\n",
    "13. What else might you conclude?\n",
    "\n",
    "14. Last, if we were to build a predictive model, which features in the data do you\n",
    "think we should include in the model and which can we leave out? Why?"
   ]
  },
  {
   "cell_type": "code",
   "execution_count": 4,
   "metadata": {
    "collapsed": false
   },
   "outputs": [],
   "source": [
    "# Load data from csv file\n",
    "import csv \n",
    "with open('titanic.csv','rU') as tFile:\n",
    "    reader = csv.reader(tFile)\n",
    "    titanicList = list(reader)\n"
   ]
  },
  {
   "cell_type": "code",
   "execution_count": 5,
   "metadata": {
    "collapsed": false
   },
   "outputs": [
    {
     "name": "stdout",
     "output_type": "stream",
     "text": [
      "891\n"
     ]
    }
   ],
   "source": [
    "#1. How many passengers are in our passenger list? \n",
    "\n",
    "# Find the length of the list and remember that the first line is the definition of the columns below.\n",
    "populationSize = len(titanicList)\n",
    "print populationSize-1"
   ]
  },
  {
   "cell_type": "code",
   "execution_count": null,
   "metadata": {
    "collapsed": true
   },
   "outputs": [],
   "source": [
    "# 2. What is the overall survival rate?"
   ]
  }
 ],
 "metadata": {
  "kernelspec": {
   "display_name": "Python 2",
   "language": "python",
   "name": "python2"
  },
  "language_info": {
   "codemirror_mode": {
    "name": "ipython",
    "version": 2
   },
   "file_extension": ".py",
   "mimetype": "text/x-python",
   "name": "python",
   "nbconvert_exporter": "python",
   "pygments_lexer": "ipython2",
   "version": "2.7.9"
  }
 },
 "nbformat": 4,
 "nbformat_minor": 0
}
