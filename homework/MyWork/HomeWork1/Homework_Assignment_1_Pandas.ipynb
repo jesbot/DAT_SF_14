{
 "cells": [
  {
   "cell_type": "markdown",
   "metadata": {},
   "source": [
    "Homework 1: Analysis of 'titanic.csv' file using Python and Pandas.\n",
    "\n",
    "Code is built to do required analysis on Titanic population pool and answer each of the questions in the assignment.\n",
    "\n",
    "Author: Jose Solomon\n",
    "\n",
    "8. What is the average age of passengers who survived?\n",
    "\n",
    "\n",
    "9. What is the average age of passengers who did not survive?\n",
    "\n",
    "10. At this (early) point in our analysis, what might you infer about any patterns\n",
    "you are seeing?\n",
    "\n",
    "11. How many passengers are in each of the three classes of service (e.g. First,\n",
    "Second, Third?)\n",
    "\n",
    "12. What is the survival rate for passengers in each of the three classes of service?\n",
    "\n",
    "13. What else might you conclude?\n",
    "\n",
    "14. Last, if we were to build a predictive model, which features in the data do you\n",
    "think we should include in the model and which can we leave out? Why?"
   ]
  },
  {
   "cell_type": "code",
   "execution_count": 2,
   "metadata": {
    "collapsed": true
   },
   "outputs": [],
   "source": [
    "# Import pandas and numpy\n",
    "import pandas as pd\n",
    "import numpy as np\n",
    "import seaborn as sns\n",
    "import matplotlib.pyplot as plt\n",
    "\n",
    "# In-line plotting\n",
    "%matplotlib inline"
   ]
  },
  {
   "cell_type": "code",
   "execution_count": 64,
   "metadata": {
    "collapsed": false
   },
   "outputs": [],
   "source": [
    "# Load a data from using 'pandas'\n",
    "df = pd.read_csv('titanic.csv')\n",
    "\n",
    "# Print out the labels\n",
    "#print df.columns\n",
    "#df.head()"
   ]
  },
  {
   "cell_type": "code",
   "execution_count": 19,
   "metadata": {
    "collapsed": false
   },
   "outputs": [
    {
     "data": {
      "text/plain": [
       "891"
      ]
     },
     "execution_count": 19,
     "metadata": {},
     "output_type": "execute_result"
    }
   ],
   "source": [
    "#1. How many passengers are in our passenger list? \n",
    "df.PassengerId.count()"
   ]
  },
  {
   "cell_type": "code",
   "execution_count": 30,
   "metadata": {
    "collapsed": false
   },
   "outputs": [
    {
     "name": "stdout",
     "output_type": "stream",
     "text": [
      "38.38%\n"
     ]
    }
   ],
   "source": [
    "# 2. What is the overall survival rate? \n",
    "\n",
    "# Given that the a passenger survived is marked as 1, and one that did not is 0, if you take the mean of the 'Survived'\n",
    "# column, you will get the survival rate\n",
    "survivalRate = df.Survived.mean()\n",
    "print \"%.2f%%\" % (survivalRate * 100)"
   ]
  },
  {
   "cell_type": "code",
   "execution_count": 39,
   "metadata": {
    "collapsed": false
   },
   "outputs": [
    {
     "data": {
      "text/plain": [
       "577"
      ]
     },
     "execution_count": 39,
     "metadata": {},
     "output_type": "execute_result"
    }
   ],
   "source": [
    "# 3. How many male passengers were onboard?\n",
    "df[(df.Sex == 'male')].Embarked.count()"
   ]
  },
  {
   "cell_type": "code",
   "execution_count": 40,
   "metadata": {
    "collapsed": false
   },
   "outputs": [
    {
     "data": {
      "text/plain": [
       "312"
      ]
     },
     "execution_count": 40,
     "metadata": {},
     "output_type": "execute_result"
    }
   ],
   "source": [
    "# 4. How many female passengers were onboard?\n",
    "df[(df.Sex == 'female')].Embarked.count()"
   ]
  },
  {
   "cell_type": "code",
   "execution_count": 24,
   "metadata": {
    "collapsed": false
   },
   "outputs": [
    {
     "data": {
      "text/html": [
       "<div style=\"max-height:1000px;max-width:1500px;overflow:auto;\">\n",
       "<table border=\"1\" class=\"dataframe\">\n",
       "  <thead>\n",
       "    <tr style=\"text-align: right;\">\n",
       "      <th></th>\n",
       "      <th>PassengerId</th>\n",
       "      <th>Survived</th>\n",
       "      <th>Pclass</th>\n",
       "      <th>Name</th>\n",
       "      <th>Age</th>\n",
       "      <th>SibSp</th>\n",
       "      <th>Parch</th>\n",
       "      <th>Ticket</th>\n",
       "      <th>Fare</th>\n",
       "      <th>Cabin</th>\n",
       "      <th>Embarked</th>\n",
       "    </tr>\n",
       "    <tr>\n",
       "      <th>Sex</th>\n",
       "      <th></th>\n",
       "      <th></th>\n",
       "      <th></th>\n",
       "      <th></th>\n",
       "      <th></th>\n",
       "      <th></th>\n",
       "      <th></th>\n",
       "      <th></th>\n",
       "      <th></th>\n",
       "      <th></th>\n",
       "      <th></th>\n",
       "    </tr>\n",
       "  </thead>\n",
       "  <tbody>\n",
       "    <tr>\n",
       "      <th>female</th>\n",
       "      <td>233</td>\n",
       "      <td>233</td>\n",
       "      <td>233</td>\n",
       "      <td>233</td>\n",
       "      <td>197</td>\n",
       "      <td>233</td>\n",
       "      <td>233</td>\n",
       "      <td>233</td>\n",
       "      <td>233</td>\n",
       "      <td>91</td>\n",
       "      <td>231</td>\n",
       "    </tr>\n",
       "    <tr>\n",
       "      <th>male</th>\n",
       "      <td>109</td>\n",
       "      <td>109</td>\n",
       "      <td>109</td>\n",
       "      <td>109</td>\n",
       "      <td>93</td>\n",
       "      <td>109</td>\n",
       "      <td>109</td>\n",
       "      <td>109</td>\n",
       "      <td>109</td>\n",
       "      <td>45</td>\n",
       "      <td>109</td>\n",
       "    </tr>\n",
       "  </tbody>\n",
       "</table>\n",
       "</div>"
      ],
      "text/plain": [
       "        PassengerId  Survived  Pclass  Name  Age  SibSp  Parch  Ticket  Fare  \\\n",
       "Sex                                                                            \n",
       "female          233       233     233   233  197    233    233     233   233   \n",
       "male            109       109     109   109   93    109    109     109   109   \n",
       "\n",
       "        Cabin  Embarked  \n",
       "Sex                      \n",
       "female     91       231  \n",
       "male       45       109  "
      ]
     },
     "execution_count": 24,
     "metadata": {},
     "output_type": "execute_result"
    }
   ],
   "source": [
    "# Just fo my own info\n",
    "df[(df.Survived == 1)].groupby(['Sex']).count()"
   ]
  },
  {
   "cell_type": "code",
   "execution_count": 62,
   "metadata": {
    "collapsed": false
   },
   "outputs": [
    {
     "data": {
      "text/html": [
       "<div style=\"max-height:1000px;max-width:1500px;overflow:auto;\">\n",
       "<table border=\"1\" class=\"dataframe\">\n",
       "  <thead>\n",
       "    <tr style=\"text-align: right;\">\n",
       "      <th></th>\n",
       "      <th>Survival Rate</th>\n",
       "    </tr>\n",
       "  </thead>\n",
       "  <tbody>\n",
       "    <tr>\n",
       "      <th>Female</th>\n",
       "      <td>0.742038</td>\n",
       "    </tr>\n",
       "    <tr>\n",
       "      <th>Male</th>\n",
       "      <td>0.188908</td>\n",
       "    </tr>\n",
       "  </tbody>\n",
       "</table>\n",
       "</div>"
      ],
      "text/plain": [
       "        Survival Rate\n",
       "Female       0.742038\n",
       "Male         0.188908"
      ]
     },
     "execution_count": 62,
     "metadata": {},
     "output_type": "execute_result"
    }
   ],
   "source": [
    "# The following two questions are answered together in the table below:\n",
    "\n",
    "# 5. What is the overall survival rate of male passengers?\n",
    "# 6. What is the overall survival rate of female passengers?\n",
    "\n",
    "survived = df[(df.Survived == 1)].groupby(['Sex']).Sex.count()\n",
    "total = df.groupby(['Sex']).Sex.count()\n",
    "#print survived\n",
    "#print total\n",
    "# Based on print statements above, 'female' is listed before 'male'\n",
    "survivalFrame = pd.DataFrame([[float(survived[0])/float(total[0])], [float(survived[1])/float(total[1])]],\n",
    "                             ['Female', 'Male'],columns=['Survival Rate'])\n",
    "                                                                    \n",
    "survivalFrame.head()"
   ]
  },
  {
   "cell_type": "code",
   "execution_count": null,
   "metadata": {
    "collapsed": true
   },
   "outputs": [],
   "source": [
    "# 7. What is the average age of all passengers onboard?\n",
    "#    * How did you calculate this average age?\n",
    "#    * Note that some of the passengers do not have an age value. \n",
    "#      How did you deal with this? What are some other ways of dealing with this?"
   ]
  }
 ],
 "metadata": {
  "kernelspec": {
   "display_name": "Python 2",
   "language": "python",
   "name": "python2"
  },
  "language_info": {
   "codemirror_mode": {
    "name": "ipython",
    "version": 2
   },
   "file_extension": ".py",
   "mimetype": "text/x-python",
   "name": "python",
   "nbconvert_exporter": "python",
   "pygments_lexer": "ipython2",
   "version": "2.7.9"
  }
 },
 "nbformat": 4,
 "nbformat_minor": 0
}
