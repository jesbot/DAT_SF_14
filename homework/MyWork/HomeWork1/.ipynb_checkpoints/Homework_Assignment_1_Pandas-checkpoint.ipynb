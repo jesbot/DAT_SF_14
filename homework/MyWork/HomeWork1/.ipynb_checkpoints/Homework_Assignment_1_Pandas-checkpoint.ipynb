{
 "cells": [
  {
   "cell_type": "markdown",
   "metadata": {},
   "source": [
    "Homework 1: Analysis of 'titanic.csv' file using Python and Pandas.\n",
    "\n",
    "Code is built to do required analysis on Titanic population pool and answer each of the questions in the assignment.\n",
    "\n",
    "Author: Jose Solomon"
   ]
  },
  {
   "cell_type": "code",
   "execution_count": 3,
   "metadata": {
    "collapsed": true
   },
   "outputs": [],
   "source": [
    "# Import pandas and numpy\n",
    "import pandas as pd\n",
    "import numpy as np\n",
    "import seaborn as sns\n",
    "import matplotlib.pyplot as plt\n",
    "\n",
    "# In-line plotting\n",
    "%matplotlib inline"
   ]
  },
  {
   "cell_type": "code",
   "execution_count": 43,
   "metadata": {
    "collapsed": false
   },
   "outputs": [
    {
     "data": {
      "text/html": [
       "<div style=\"max-height:1000px;max-width:1500px;overflow:auto;\">\n",
       "<table border=\"1\" class=\"dataframe\">\n",
       "  <thead>\n",
       "    <tr style=\"text-align: right;\">\n",
       "      <th></th>\n",
       "      <th>PassengerId</th>\n",
       "      <th>Survived</th>\n",
       "      <th>Pclass</th>\n",
       "      <th>Name</th>\n",
       "      <th>Sex</th>\n",
       "      <th>Age</th>\n",
       "      <th>SibSp</th>\n",
       "      <th>Parch</th>\n",
       "      <th>Ticket</th>\n",
       "      <th>Fare</th>\n",
       "      <th>Cabin</th>\n",
       "      <th>Embarked</th>\n",
       "    </tr>\n",
       "  </thead>\n",
       "  <tbody>\n",
       "    <tr>\n",
       "      <th>0</th>\n",
       "      <td>1</td>\n",
       "      <td>0</td>\n",
       "      <td>3</td>\n",
       "      <td>Braund, Mr. Owen Harris</td>\n",
       "      <td>male</td>\n",
       "      <td>22</td>\n",
       "      <td>1</td>\n",
       "      <td>0</td>\n",
       "      <td>A/5 21171</td>\n",
       "      <td>7.2500</td>\n",
       "      <td>NaN</td>\n",
       "      <td>S</td>\n",
       "    </tr>\n",
       "    <tr>\n",
       "      <th>1</th>\n",
       "      <td>2</td>\n",
       "      <td>1</td>\n",
       "      <td>1</td>\n",
       "      <td>Cumings, Mrs. John Bradley (Florence Briggs Th...</td>\n",
       "      <td>female</td>\n",
       "      <td>38</td>\n",
       "      <td>1</td>\n",
       "      <td>0</td>\n",
       "      <td>PC 17599</td>\n",
       "      <td>71.2833</td>\n",
       "      <td>C85</td>\n",
       "      <td>C</td>\n",
       "    </tr>\n",
       "    <tr>\n",
       "      <th>2</th>\n",
       "      <td>3</td>\n",
       "      <td>1</td>\n",
       "      <td>3</td>\n",
       "      <td>Heikkinen, Miss. Laina</td>\n",
       "      <td>female</td>\n",
       "      <td>26</td>\n",
       "      <td>0</td>\n",
       "      <td>0</td>\n",
       "      <td>STON/O2. 3101282</td>\n",
       "      <td>7.9250</td>\n",
       "      <td>NaN</td>\n",
       "      <td>S</td>\n",
       "    </tr>\n",
       "    <tr>\n",
       "      <th>3</th>\n",
       "      <td>4</td>\n",
       "      <td>1</td>\n",
       "      <td>1</td>\n",
       "      <td>Futrelle, Mrs. Jacques Heath (Lily May Peel)</td>\n",
       "      <td>female</td>\n",
       "      <td>35</td>\n",
       "      <td>1</td>\n",
       "      <td>0</td>\n",
       "      <td>113803</td>\n",
       "      <td>53.1000</td>\n",
       "      <td>C123</td>\n",
       "      <td>S</td>\n",
       "    </tr>\n",
       "    <tr>\n",
       "      <th>4</th>\n",
       "      <td>5</td>\n",
       "      <td>0</td>\n",
       "      <td>3</td>\n",
       "      <td>Allen, Mr. William Henry</td>\n",
       "      <td>male</td>\n",
       "      <td>35</td>\n",
       "      <td>0</td>\n",
       "      <td>0</td>\n",
       "      <td>373450</td>\n",
       "      <td>8.0500</td>\n",
       "      <td>NaN</td>\n",
       "      <td>S</td>\n",
       "    </tr>\n",
       "  </tbody>\n",
       "</table>\n",
       "</div>"
      ],
      "text/plain": [
       "   PassengerId  Survived  Pclass  \\\n",
       "0            1         0       3   \n",
       "1            2         1       1   \n",
       "2            3         1       3   \n",
       "3            4         1       1   \n",
       "4            5         0       3   \n",
       "\n",
       "                                                Name     Sex  Age  SibSp  \\\n",
       "0                            Braund, Mr. Owen Harris    male   22      1   \n",
       "1  Cumings, Mrs. John Bradley (Florence Briggs Th...  female   38      1   \n",
       "2                             Heikkinen, Miss. Laina  female   26      0   \n",
       "3       Futrelle, Mrs. Jacques Heath (Lily May Peel)  female   35      1   \n",
       "4                           Allen, Mr. William Henry    male   35      0   \n",
       "\n",
       "   Parch            Ticket     Fare Cabin Embarked  \n",
       "0      0         A/5 21171   7.2500   NaN        S  \n",
       "1      0          PC 17599  71.2833   C85        C  \n",
       "2      0  STON/O2. 3101282   7.9250   NaN        S  \n",
       "3      0            113803  53.1000  C123        S  \n",
       "4      0            373450   8.0500   NaN        S  "
      ]
     },
     "execution_count": 43,
     "metadata": {},
     "output_type": "execute_result"
    }
   ],
   "source": [
    "# Load a data from using 'pandas'\n",
    "dfTitanic = pd.read_csv('titanic.csv')\n",
    "\n",
    "# Print out the labels\n",
    "#print df.columns\n",
    "#dfTitanic.head()"
   ]
  },
  {
   "cell_type": "code",
   "execution_count": 5,
   "metadata": {
    "collapsed": false
   },
   "outputs": [
    {
     "data": {
      "text/plain": [
       "891"
      ]
     },
     "execution_count": 5,
     "metadata": {},
     "output_type": "execute_result"
    }
   ],
   "source": [
    "#1. How many passengers are in our passenger list? \n",
    "dfTitanic.PassengerId.count()"
   ]
  },
  {
   "cell_type": "code",
   "execution_count": 6,
   "metadata": {
    "collapsed": false
   },
   "outputs": [
    {
     "name": "stdout",
     "output_type": "stream",
     "text": [
      "38.38%\n"
     ]
    }
   ],
   "source": [
    "# 2. What is the overall survival rate? \n",
    "\n",
    "# Given that the a passenger whom survived is marked as 1, and one that did not is 0, if you take the mean of the 'Survived'\n",
    "# column, you will get the survival rate\n",
    "survivalRate = dfTitanic.Survived.mean()\n",
    "print \"%.2f%%\" % (survivalRate * 100)"
   ]
  },
  {
   "cell_type": "code",
   "execution_count": 7,
   "metadata": {
    "collapsed": false
   },
   "outputs": [
    {
     "data": {
      "text/plain": [
       "577"
      ]
     },
     "execution_count": 7,
     "metadata": {},
     "output_type": "execute_result"
    }
   ],
   "source": [
    "# 3. How many male passengers were onboard?\n",
    "dfTitanic[(dfTitanic.Sex == 'male')].Embarked.count()"
   ]
  },
  {
   "cell_type": "code",
   "execution_count": 8,
   "metadata": {
    "collapsed": false
   },
   "outputs": [
    {
     "data": {
      "text/plain": [
       "312"
      ]
     },
     "execution_count": 8,
     "metadata": {},
     "output_type": "execute_result"
    }
   ],
   "source": [
    "# 4. How many female passengers were onboard?\n",
    "dfTitanic[(dfTitanic.Sex == 'female')].Embarked.count()"
   ]
  },
  {
   "cell_type": "code",
   "execution_count": 9,
   "metadata": {
    "collapsed": false
   },
   "outputs": [],
   "source": [
    "# Just for my own insight\n",
    "# dfTitanic[(dfTitanic.Survived == 1)].groupby(['Sex']).count()"
   ]
  },
  {
   "cell_type": "code",
   "execution_count": 10,
   "metadata": {
    "collapsed": false
   },
   "outputs": [
    {
     "data": {
      "text/html": [
       "<div style=\"max-height:1000px;max-width:1500px;overflow:auto;\">\n",
       "<table border=\"1\" class=\"dataframe\">\n",
       "  <thead>\n",
       "    <tr style=\"text-align: right;\">\n",
       "      <th></th>\n",
       "      <th>Survival Rate</th>\n",
       "    </tr>\n",
       "  </thead>\n",
       "  <tbody>\n",
       "    <tr>\n",
       "      <th>Female</th>\n",
       "      <td>0.742038</td>\n",
       "    </tr>\n",
       "    <tr>\n",
       "      <th>Male</th>\n",
       "      <td>0.188908</td>\n",
       "    </tr>\n",
       "  </tbody>\n",
       "</table>\n",
       "</div>"
      ],
      "text/plain": [
       "        Survival Rate\n",
       "Female       0.742038\n",
       "Male         0.188908"
      ]
     },
     "execution_count": 10,
     "metadata": {},
     "output_type": "execute_result"
    }
   ],
   "source": [
    "# The following two questions are answered together in the table below:\n",
    "\n",
    "# 5. What is the overall survival rate of male passengers?\n",
    "# 6. What is the overall survival rate of female passengers?\n",
    "\n",
    "# Create two new variables\n",
    "survived = dfTitanic[(dfTitanic.Survived == 1)].groupby(['Sex']).Sex.count()\n",
    "total = dfTitanic.groupby(['Sex']).Sex.count()\n",
    "#print survived\n",
    "#print total\n",
    "# Based on print statements above, 'female' is listed before 'male'\n",
    "survivalFrame = pd.DataFrame([[float(survived[0])/float(total[0])], [float(survived[1])/float(total[1])]],\n",
    "                             ['Female', 'Male'],columns=['Survival Rate'])\n",
    "                                                                    \n",
    "survivalFrame.head()"
   ]
  },
  {
   "cell_type": "code",
   "execution_count": 42,
   "metadata": {
    "collapsed": false
   },
   "outputs": [
    {
     "name": "stdout",
     "output_type": "stream",
     "text": [
      "29.70 years old\n"
     ]
    }
   ],
   "source": [
    "# 7. What is the average age of all passengers onboard?\n",
    "#    * How did you calculate this average age?\n",
    "#    * Note that some of the passengers do not have an age value. \n",
    "#      How did you deal with this? What are some other ways of dealing with this?\n",
    "\n",
    "# print dfTitanic.shape\n",
    "# Create a data frame with no nulls for the 'age' entry\n",
    "noNullAge = dfTitanic[dfTitanic.Age.notnull()]\n",
    "# print noNullAge.shape\n",
    "# noNullAge.Age.mean()\n",
    "\n",
    "# Now calculate the average age of those that have reported their ages in the log\n",
    "print \"%.2f years old\" % (noNullAge.Age.mean())\n",
    "\n",
    "# Another way to deal with this is to take the average directly from the original data frame, since \n",
    "# Pandas is able to remove 'NaNs' when it does a mean calculation."
   ]
  },
  {
   "cell_type": "code",
   "execution_count": 41,
   "metadata": {
    "collapsed": false
   },
   "outputs": [
    {
     "data": {
      "text/html": [
       "<div style=\"max-height:1000px;max-width:1500px;overflow:auto;\">\n",
       "<table border=\"1\" class=\"dataframe\">\n",
       "  <thead>\n",
       "    <tr style=\"text-align: right;\">\n",
       "      <th></th>\n",
       "      <th>Average Ages</th>\n",
       "    </tr>\n",
       "  </thead>\n",
       "  <tbody>\n",
       "    <tr>\n",
       "      <th>Average age of thost that survived</th>\n",
       "      <td>28.343690</td>\n",
       "    </tr>\n",
       "    <tr>\n",
       "      <th>Average age of those that did not</th>\n",
       "      <td>30.626179</td>\n",
       "    </tr>\n",
       "  </tbody>\n",
       "</table>\n",
       "</div>"
      ],
      "text/plain": [
       "                                    Average Ages\n",
       "Average age of thost that survived     28.343690\n",
       "Average age of those that did not      30.626179"
      ]
     },
     "execution_count": 41,
     "metadata": {},
     "output_type": "execute_result"
    }
   ],
   "source": [
    "# The following two questions are answered together in the table below:\n",
    "\n",
    "# 8. What is the average age of passengers who survived?\n",
    "# 9. What is the average age of passengers who did not survive?\n",
    "\n",
    "# Filter for passangers that survived\n",
    "survived = dfTitanic[(dfTitanic.Survived == 1)].Age.mean()\n",
    "notSurvived = dfTitanic[(dfTitanic.Survived == 0)].Age.mean()\n",
    "\n",
    "survivalFrame = pd.DataFrame([survived, notSurvived],['Average age of thost that survived',\n",
    "                                                     'Average age of those that did not'],\n",
    "                             columns=['Average Ages'])\n",
    "survivalFrame.head()"
   ]
  },
  {
   "cell_type": "markdown",
   "metadata": {},
   "source": [
    "* 10. At this (early) point in our analysis, what might you infer about any patterns you are seeing?\n",
    "\n",
    "1. Female passangers had a much higher chance of survival than their male counterparts.\n",
    "2. Younger passangers tended to fair better than older ones. It would be interesting to see how the ticket class of the passanger effects the survival rate."
   ]
  },
  {
   "cell_type": "code",
   "execution_count": 82,
   "metadata": {
    "collapsed": false
   },
   "outputs": [
    {
     "data": {
      "text/html": [
       "<div style=\"max-height:1000px;max-width:1500px;overflow:auto;\">\n",
       "<table border=\"1\" class=\"dataframe\">\n",
       "  <thead>\n",
       "    <tr style=\"text-align: right;\">\n",
       "      <th></th>\n",
       "      <th>Class</th>\n",
       "    </tr>\n",
       "  </thead>\n",
       "  <tbody>\n",
       "    <tr>\n",
       "      <th>1st Class</th>\n",
       "      <td>216</td>\n",
       "    </tr>\n",
       "    <tr>\n",
       "      <th>2nd Class</th>\n",
       "      <td>184</td>\n",
       "    </tr>\n",
       "    <tr>\n",
       "      <th>3rd Class</th>\n",
       "      <td>491</td>\n",
       "    </tr>\n",
       "  </tbody>\n",
       "</table>\n",
       "</div>"
      ],
      "text/plain": [
       "           Class\n",
       "1st Class    216\n",
       "2nd Class    184\n",
       "3rd Class    491"
      ]
     },
     "execution_count": 82,
     "metadata": {},
     "output_type": "execute_result"
    }
   ],
   "source": [
    "# 11. How many passengers are in each of the three classes of service (e.g. First,\n",
    "# Second, Third?)\n",
    "classFrame = pd.DataFrame(dfTitanic.groupby('Pclass').Pclass.count())\n",
    "totalFirst = int(classFrame.iloc[0])\n",
    "totalSecond = int(classFrame.iloc[1])\n",
    "totalThird =  int(classFrame.iloc[2])\n",
    "classFrame = pd.DataFrame([totalFirst , totalSecond, \n",
    "                           totalThird],['1st Class','2nd Class',\n",
    "                                                     '3rd Class'],columns=['Class'])\n",
    "classFrame.head()"
   ]
  },
  {
   "cell_type": "code",
   "execution_count": 92,
   "metadata": {
    "collapsed": false
   },
   "outputs": [
    {
     "data": {
      "text/html": [
       "<div style=\"max-height:1000px;max-width:1500px;overflow:auto;\">\n",
       "<table border=\"1\" class=\"dataframe\">\n",
       "  <thead>\n",
       "    <tr style=\"text-align: right;\">\n",
       "      <th></th>\n",
       "      <th>Class</th>\n",
       "    </tr>\n",
       "  </thead>\n",
       "  <tbody>\n",
       "    <tr>\n",
       "      <th>1st Class</th>\n",
       "      <td>0.629630</td>\n",
       "    </tr>\n",
       "    <tr>\n",
       "      <th>2nd Class</th>\n",
       "      <td>0.472826</td>\n",
       "    </tr>\n",
       "    <tr>\n",
       "      <th>3rd Class</th>\n",
       "      <td>0.242363</td>\n",
       "    </tr>\n",
       "  </tbody>\n",
       "</table>\n",
       "</div>"
      ],
      "text/plain": [
       "              Class\n",
       "1st Class  0.629630\n",
       "2nd Class  0.472826\n",
       "3rd Class  0.242363"
      ]
     },
     "execution_count": 92,
     "metadata": {},
     "output_type": "execute_result"
    }
   ],
   "source": [
    "# 12. What is the survival rate for passengers in each of the three classes of service?\n",
    "survivalClassFrame = pd.DataFrame(dfTitanic[(dfTitanic.Survived == 1)].groupby('Pclass').Pclass.count())\n",
    "survivalR1st = int(survivalClassFrame.iloc[0])/float(totalFirst)\n",
    "survivalR2nd = float(survivalClassFrame.iloc[1])/float(totalSecond)\n",
    "survivalR3rd = float(survivalClassFrame.iloc[2])/float(totalThird)\n",
    "survivalClassFrame = pd.DataFrame([survivalR1st ,survivalR2nd, survivalR3rd],['1st Class','2nd Class',\n",
    "                                                     '3rd Class'],columns=['Class'])\n",
    "survivalClassFrame.head()"
   ]
  },
  {
   "cell_type": "markdown",
   "metadata": {},
   "source": [
    "13. What else might you conclude?\n",
    "\n",
    "As expected, if the passenger was in a higher class, the chances of survival were much higher.\n",
    "\n"
   ]
  },
  {
   "cell_type": "markdown",
   "metadata": {},
   "source": [
    "* 14. Last, if we were to build a predictive model, which features in the data do you\n",
    "* think we should include in the model and which can we leave out? Why?\n",
    "\n",
    "In terms of studying the survival rate, it would be interesting to look at what level each of the passenger was in terms of the ship layout. Determining the proximity to the ship's deck could add insight into how the passengers' survival rate was effected by exit route."
   ]
  }
 ],
 "metadata": {
  "kernelspec": {
   "display_name": "Python 2",
   "language": "python",
   "name": "python2"
  },
  "language_info": {
   "codemirror_mode": {
    "name": "ipython",
    "version": 2
   },
   "file_extension": ".py",
   "mimetype": "text/x-python",
   "name": "python",
   "nbconvert_exporter": "python",
   "pygments_lexer": "ipython2",
   "version": "2.7.9"
  }
 },
 "nbformat": 4,
 "nbformat_minor": 0
}
